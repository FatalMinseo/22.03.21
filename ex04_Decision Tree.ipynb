{
 "cells": [
  {
   "cell_type": "markdown",
   "id": "b20048b1",
   "metadata": {},
   "source": [
    "# 문제정의\n",
    "- 버섯의 특징을 사용해서 독/식용 버섯을 분류"
   ]
  },
  {
   "cell_type": "markdown",
   "id": "1c4aef30",
   "metadata": {},
   "source": [
    "## 목표\n",
    "- Decision Tree 과대적합 제어 / 시각화 / 특성 선택"
   ]
  },
  {
   "cell_type": "markdown",
   "id": "df381de8",
   "metadata": {},
   "source": [
    "# 데이터 수집"
   ]
  },
  {
   "cell_type": "code",
   "execution_count": 81,
   "id": "7c29f0d7",
   "metadata": {},
   "outputs": [],
   "source": [
    "import pandas as pd\n",
    "data=pd.read_csv('data/mushroom.csv')"
   ]
  },
  {
   "cell_type": "code",
   "execution_count": 82,
   "id": "c65ccfd8",
   "metadata": {
    "scrolled": true
   },
   "outputs": [
    {
     "data": {
      "text/html": [
       "<div>\n",
       "<style scoped>\n",
       "    .dataframe tbody tr th:only-of-type {\n",
       "        vertical-align: middle;\n",
       "    }\n",
       "\n",
       "    .dataframe tbody tr th {\n",
       "        vertical-align: top;\n",
       "    }\n",
       "\n",
       "    .dataframe thead th {\n",
       "        text-align: right;\n",
       "    }\n",
       "</style>\n",
       "<table border=\"1\" class=\"dataframe\">\n",
       "  <thead>\n",
       "    <tr style=\"text-align: right;\">\n",
       "      <th></th>\n",
       "      <th>poisonous</th>\n",
       "      <th>cap-shape</th>\n",
       "      <th>cap-surface</th>\n",
       "      <th>cap-color</th>\n",
       "      <th>bruises</th>\n",
       "      <th>odor</th>\n",
       "      <th>gill-attachment</th>\n",
       "      <th>gill-spacing</th>\n",
       "      <th>gill-size</th>\n",
       "      <th>gill-color</th>\n",
       "      <th>...</th>\n",
       "      <th>stalk-surface-below-ring</th>\n",
       "      <th>stalk-color-above-ring</th>\n",
       "      <th>stalk-color-below-ring</th>\n",
       "      <th>veil-type</th>\n",
       "      <th>veil-color</th>\n",
       "      <th>ring-number</th>\n",
       "      <th>ring-type</th>\n",
       "      <th>spore-print-color</th>\n",
       "      <th>population</th>\n",
       "      <th>habitat</th>\n",
       "    </tr>\n",
       "  </thead>\n",
       "  <tbody>\n",
       "    <tr>\n",
       "      <th>0</th>\n",
       "      <td>p</td>\n",
       "      <td>x</td>\n",
       "      <td>s</td>\n",
       "      <td>n</td>\n",
       "      <td>t</td>\n",
       "      <td>p</td>\n",
       "      <td>f</td>\n",
       "      <td>c</td>\n",
       "      <td>n</td>\n",
       "      <td>k</td>\n",
       "      <td>...</td>\n",
       "      <td>s</td>\n",
       "      <td>w</td>\n",
       "      <td>w</td>\n",
       "      <td>p</td>\n",
       "      <td>w</td>\n",
       "      <td>o</td>\n",
       "      <td>p</td>\n",
       "      <td>k</td>\n",
       "      <td>s</td>\n",
       "      <td>u</td>\n",
       "    </tr>\n",
       "    <tr>\n",
       "      <th>1</th>\n",
       "      <td>e</td>\n",
       "      <td>x</td>\n",
       "      <td>s</td>\n",
       "      <td>y</td>\n",
       "      <td>t</td>\n",
       "      <td>a</td>\n",
       "      <td>f</td>\n",
       "      <td>c</td>\n",
       "      <td>b</td>\n",
       "      <td>k</td>\n",
       "      <td>...</td>\n",
       "      <td>s</td>\n",
       "      <td>w</td>\n",
       "      <td>w</td>\n",
       "      <td>p</td>\n",
       "      <td>w</td>\n",
       "      <td>o</td>\n",
       "      <td>p</td>\n",
       "      <td>n</td>\n",
       "      <td>n</td>\n",
       "      <td>g</td>\n",
       "    </tr>\n",
       "    <tr>\n",
       "      <th>2</th>\n",
       "      <td>e</td>\n",
       "      <td>b</td>\n",
       "      <td>s</td>\n",
       "      <td>w</td>\n",
       "      <td>t</td>\n",
       "      <td>l</td>\n",
       "      <td>f</td>\n",
       "      <td>c</td>\n",
       "      <td>b</td>\n",
       "      <td>n</td>\n",
       "      <td>...</td>\n",
       "      <td>s</td>\n",
       "      <td>w</td>\n",
       "      <td>w</td>\n",
       "      <td>p</td>\n",
       "      <td>w</td>\n",
       "      <td>o</td>\n",
       "      <td>p</td>\n",
       "      <td>n</td>\n",
       "      <td>n</td>\n",
       "      <td>m</td>\n",
       "    </tr>\n",
       "    <tr>\n",
       "      <th>3</th>\n",
       "      <td>p</td>\n",
       "      <td>x</td>\n",
       "      <td>y</td>\n",
       "      <td>w</td>\n",
       "      <td>t</td>\n",
       "      <td>p</td>\n",
       "      <td>f</td>\n",
       "      <td>c</td>\n",
       "      <td>n</td>\n",
       "      <td>n</td>\n",
       "      <td>...</td>\n",
       "      <td>s</td>\n",
       "      <td>w</td>\n",
       "      <td>w</td>\n",
       "      <td>p</td>\n",
       "      <td>w</td>\n",
       "      <td>o</td>\n",
       "      <td>p</td>\n",
       "      <td>k</td>\n",
       "      <td>s</td>\n",
       "      <td>u</td>\n",
       "    </tr>\n",
       "    <tr>\n",
       "      <th>4</th>\n",
       "      <td>e</td>\n",
       "      <td>x</td>\n",
       "      <td>s</td>\n",
       "      <td>g</td>\n",
       "      <td>f</td>\n",
       "      <td>n</td>\n",
       "      <td>f</td>\n",
       "      <td>w</td>\n",
       "      <td>b</td>\n",
       "      <td>k</td>\n",
       "      <td>...</td>\n",
       "      <td>s</td>\n",
       "      <td>w</td>\n",
       "      <td>w</td>\n",
       "      <td>p</td>\n",
       "      <td>w</td>\n",
       "      <td>o</td>\n",
       "      <td>e</td>\n",
       "      <td>n</td>\n",
       "      <td>a</td>\n",
       "      <td>g</td>\n",
       "    </tr>\n",
       "  </tbody>\n",
       "</table>\n",
       "<p>5 rows × 23 columns</p>\n",
       "</div>"
      ],
      "text/plain": [
       "  poisonous cap-shape cap-surface cap-color bruises odor gill-attachment  \\\n",
       "0         p         x           s         n       t    p               f   \n",
       "1         e         x           s         y       t    a               f   \n",
       "2         e         b           s         w       t    l               f   \n",
       "3         p         x           y         w       t    p               f   \n",
       "4         e         x           s         g       f    n               f   \n",
       "\n",
       "  gill-spacing gill-size gill-color  ... stalk-surface-below-ring  \\\n",
       "0            c         n          k  ...                        s   \n",
       "1            c         b          k  ...                        s   \n",
       "2            c         b          n  ...                        s   \n",
       "3            c         n          n  ...                        s   \n",
       "4            w         b          k  ...                        s   \n",
       "\n",
       "  stalk-color-above-ring stalk-color-below-ring veil-type veil-color  \\\n",
       "0                      w                      w         p          w   \n",
       "1                      w                      w         p          w   \n",
       "2                      w                      w         p          w   \n",
       "3                      w                      w         p          w   \n",
       "4                      w                      w         p          w   \n",
       "\n",
       "  ring-number ring-type spore-print-color population habitat  \n",
       "0           o         p                 k          s       u  \n",
       "1           o         p                 n          n       g  \n",
       "2           o         p                 n          n       m  \n",
       "3           o         p                 k          s       u  \n",
       "4           o         e                 n          a       g  \n",
       "\n",
       "[5 rows x 23 columns]"
      ]
     },
     "execution_count": 82,
     "metadata": {},
     "output_type": "execute_result"
    }
   ],
   "source": [
    "data.head()"
   ]
  },
  {
   "cell_type": "code",
   "execution_count": 83,
   "id": "0c8f4fc6",
   "metadata": {},
   "outputs": [
    {
     "data": {
      "text/plain": [
       "(8124, 23)"
      ]
     },
     "execution_count": 83,
     "metadata": {},
     "output_type": "execute_result"
    }
   ],
   "source": [
    "data.shape"
   ]
  },
  {
   "cell_type": "markdown",
   "id": "1b042d22",
   "metadata": {},
   "source": [
    "# 데이터 전처리"
   ]
  },
  {
   "cell_type": "markdown",
   "id": "2fb1edad",
   "metadata": {},
   "source": [
    "## 결측치"
   ]
  },
  {
   "cell_type": "code",
   "execution_count": 84,
   "id": "299aeb6c",
   "metadata": {},
   "outputs": [
    {
     "name": "stdout",
     "output_type": "stream",
     "text": [
      "<class 'pandas.core.frame.DataFrame'>\n",
      "RangeIndex: 8124 entries, 0 to 8123\n",
      "Data columns (total 23 columns):\n",
      " #   Column                    Non-Null Count  Dtype \n",
      "---  ------                    --------------  ----- \n",
      " 0   poisonous                 8124 non-null   object\n",
      " 1   cap-shape                 8124 non-null   object\n",
      " 2   cap-surface               8124 non-null   object\n",
      " 3   cap-color                 8124 non-null   object\n",
      " 4   bruises                   8124 non-null   object\n",
      " 5   odor                      8124 non-null   object\n",
      " 6   gill-attachment           8124 non-null   object\n",
      " 7   gill-spacing              8124 non-null   object\n",
      " 8   gill-size                 8124 non-null   object\n",
      " 9   gill-color                8124 non-null   object\n",
      " 10  stalk-shape               8124 non-null   object\n",
      " 11  stalk-root                8124 non-null   object\n",
      " 12  stalk-surface-above-ring  8124 non-null   object\n",
      " 13  stalk-surface-below-ring  8124 non-null   object\n",
      " 14  stalk-color-above-ring    8124 non-null   object\n",
      " 15  stalk-color-below-ring    8124 non-null   object\n",
      " 16  veil-type                 8124 non-null   object\n",
      " 17  veil-color                8124 non-null   object\n",
      " 18  ring-number               8124 non-null   object\n",
      " 19  ring-type                 8124 non-null   object\n",
      " 20  spore-print-color         8124 non-null   object\n",
      " 21  population                8124 non-null   object\n",
      " 22  habitat                   8124 non-null   object\n",
      "dtypes: object(23)\n",
      "memory usage: 1.4+ MB\n"
     ]
    }
   ],
   "source": [
    "data.info()"
   ]
  },
  {
   "cell_type": "markdown",
   "id": "46eb6c8e",
   "metadata": {},
   "source": [
    "# 탐색적 데이터 분석"
   ]
  },
  {
   "cell_type": "markdown",
   "id": "d76a334f",
   "metadata": {},
   "source": [
    "# 모델 선택 및 하이퍼 파라미터 튜닝"
   ]
  },
  {
   "cell_type": "code",
   "execution_count": 85,
   "id": "90febe80",
   "metadata": {},
   "outputs": [],
   "source": [
    "X=data.loc[:,'cap-shape':]\n",
    "y=data.loc[:, 'poisonous']"
   ]
  },
  {
   "cell_type": "markdown",
   "id": "dba918fb",
   "metadata": {},
   "source": [
    "## 인코딩\n",
    "- 글자 데이터를 수치 데이터로 변환하는 작업"
   ]
  },
  {
   "cell_type": "markdown",
   "id": "3460d0fd",
   "metadata": {},
   "source": [
    "### Label 인코딩"
   ]
  },
  {
   "cell_type": "code",
   "execution_count": 86,
   "id": "8bd5f25e",
   "metadata": {},
   "outputs": [],
   "source": [
    "X1 =X.copy()\n",
    "# X1=X 하면 주소값이 같기 때문에 변경하면 같이 바뀜"
   ]
  },
  {
   "cell_type": "code",
   "execution_count": 87,
   "id": "d96e0e09",
   "metadata": {},
   "outputs": [
    {
     "data": {
      "text/plain": [
       "array(['x', 'b', 's', 'f', 'k', 'c'], dtype=object)"
      ]
     },
     "execution_count": 87,
     "metadata": {},
     "output_type": "execute_result"
    }
   ],
   "source": [
    "X1['cap-shape'].unique()"
   ]
  },
  {
   "cell_type": "code",
   "execution_count": 88,
   "id": "c0e62d26",
   "metadata": {},
   "outputs": [],
   "source": [
    "X1['cap-shape']=X1['cap-shape'].map({\"x\":0, \"f\":1, \"k\":2, \"b\":3, \"s\":4, \"c\":5})"
   ]
  },
  {
   "cell_type": "markdown",
   "id": "8ee7eee2",
   "metadata": {},
   "source": [
    "### Onehot 인코딩"
   ]
  },
  {
   "cell_type": "code",
   "execution_count": 89,
   "id": "80c82a06",
   "metadata": {},
   "outputs": [],
   "source": [
    "X2=X.copy()"
   ]
  },
  {
   "cell_type": "code",
   "execution_count": 90,
   "id": "8d0050db",
   "metadata": {},
   "outputs": [
    {
     "data": {
      "text/html": [
       "<div>\n",
       "<style scoped>\n",
       "    .dataframe tbody tr th:only-of-type {\n",
       "        vertical-align: middle;\n",
       "    }\n",
       "\n",
       "    .dataframe tbody tr th {\n",
       "        vertical-align: top;\n",
       "    }\n",
       "\n",
       "    .dataframe thead th {\n",
       "        text-align: right;\n",
       "    }\n",
       "</style>\n",
       "<table border=\"1\" class=\"dataframe\">\n",
       "  <thead>\n",
       "    <tr style=\"text-align: right;\">\n",
       "      <th></th>\n",
       "      <th>cap-shape_b</th>\n",
       "      <th>cap-shape_c</th>\n",
       "      <th>cap-shape_f</th>\n",
       "      <th>cap-shape_k</th>\n",
       "      <th>cap-shape_s</th>\n",
       "      <th>cap-shape_x</th>\n",
       "      <th>cap-surface_f</th>\n",
       "      <th>cap-surface_g</th>\n",
       "      <th>cap-surface_s</th>\n",
       "      <th>cap-surface_y</th>\n",
       "      <th>...</th>\n",
       "      <th>population_s</th>\n",
       "      <th>population_v</th>\n",
       "      <th>population_y</th>\n",
       "      <th>habitat_d</th>\n",
       "      <th>habitat_g</th>\n",
       "      <th>habitat_l</th>\n",
       "      <th>habitat_m</th>\n",
       "      <th>habitat_p</th>\n",
       "      <th>habitat_u</th>\n",
       "      <th>habitat_w</th>\n",
       "    </tr>\n",
       "  </thead>\n",
       "  <tbody>\n",
       "    <tr>\n",
       "      <th>0</th>\n",
       "      <td>0</td>\n",
       "      <td>0</td>\n",
       "      <td>0</td>\n",
       "      <td>0</td>\n",
       "      <td>0</td>\n",
       "      <td>1</td>\n",
       "      <td>0</td>\n",
       "      <td>0</td>\n",
       "      <td>1</td>\n",
       "      <td>0</td>\n",
       "      <td>...</td>\n",
       "      <td>1</td>\n",
       "      <td>0</td>\n",
       "      <td>0</td>\n",
       "      <td>0</td>\n",
       "      <td>0</td>\n",
       "      <td>0</td>\n",
       "      <td>0</td>\n",
       "      <td>0</td>\n",
       "      <td>1</td>\n",
       "      <td>0</td>\n",
       "    </tr>\n",
       "    <tr>\n",
       "      <th>1</th>\n",
       "      <td>0</td>\n",
       "      <td>0</td>\n",
       "      <td>0</td>\n",
       "      <td>0</td>\n",
       "      <td>0</td>\n",
       "      <td>1</td>\n",
       "      <td>0</td>\n",
       "      <td>0</td>\n",
       "      <td>1</td>\n",
       "      <td>0</td>\n",
       "      <td>...</td>\n",
       "      <td>0</td>\n",
       "      <td>0</td>\n",
       "      <td>0</td>\n",
       "      <td>0</td>\n",
       "      <td>1</td>\n",
       "      <td>0</td>\n",
       "      <td>0</td>\n",
       "      <td>0</td>\n",
       "      <td>0</td>\n",
       "      <td>0</td>\n",
       "    </tr>\n",
       "    <tr>\n",
       "      <th>2</th>\n",
       "      <td>1</td>\n",
       "      <td>0</td>\n",
       "      <td>0</td>\n",
       "      <td>0</td>\n",
       "      <td>0</td>\n",
       "      <td>0</td>\n",
       "      <td>0</td>\n",
       "      <td>0</td>\n",
       "      <td>1</td>\n",
       "      <td>0</td>\n",
       "      <td>...</td>\n",
       "      <td>0</td>\n",
       "      <td>0</td>\n",
       "      <td>0</td>\n",
       "      <td>0</td>\n",
       "      <td>0</td>\n",
       "      <td>0</td>\n",
       "      <td>1</td>\n",
       "      <td>0</td>\n",
       "      <td>0</td>\n",
       "      <td>0</td>\n",
       "    </tr>\n",
       "    <tr>\n",
       "      <th>3</th>\n",
       "      <td>0</td>\n",
       "      <td>0</td>\n",
       "      <td>0</td>\n",
       "      <td>0</td>\n",
       "      <td>0</td>\n",
       "      <td>1</td>\n",
       "      <td>0</td>\n",
       "      <td>0</td>\n",
       "      <td>0</td>\n",
       "      <td>1</td>\n",
       "      <td>...</td>\n",
       "      <td>1</td>\n",
       "      <td>0</td>\n",
       "      <td>0</td>\n",
       "      <td>0</td>\n",
       "      <td>0</td>\n",
       "      <td>0</td>\n",
       "      <td>0</td>\n",
       "      <td>0</td>\n",
       "      <td>1</td>\n",
       "      <td>0</td>\n",
       "    </tr>\n",
       "    <tr>\n",
       "      <th>4</th>\n",
       "      <td>0</td>\n",
       "      <td>0</td>\n",
       "      <td>0</td>\n",
       "      <td>0</td>\n",
       "      <td>0</td>\n",
       "      <td>1</td>\n",
       "      <td>0</td>\n",
       "      <td>0</td>\n",
       "      <td>1</td>\n",
       "      <td>0</td>\n",
       "      <td>...</td>\n",
       "      <td>0</td>\n",
       "      <td>0</td>\n",
       "      <td>0</td>\n",
       "      <td>0</td>\n",
       "      <td>1</td>\n",
       "      <td>0</td>\n",
       "      <td>0</td>\n",
       "      <td>0</td>\n",
       "      <td>0</td>\n",
       "      <td>0</td>\n",
       "    </tr>\n",
       "  </tbody>\n",
       "</table>\n",
       "<p>5 rows × 117 columns</p>\n",
       "</div>"
      ],
      "text/plain": [
       "   cap-shape_b  cap-shape_c  cap-shape_f  cap-shape_k  cap-shape_s  \\\n",
       "0            0            0            0            0            0   \n",
       "1            0            0            0            0            0   \n",
       "2            1            0            0            0            0   \n",
       "3            0            0            0            0            0   \n",
       "4            0            0            0            0            0   \n",
       "\n",
       "   cap-shape_x  cap-surface_f  cap-surface_g  cap-surface_s  cap-surface_y  \\\n",
       "0            1              0              0              1              0   \n",
       "1            1              0              0              1              0   \n",
       "2            0              0              0              1              0   \n",
       "3            1              0              0              0              1   \n",
       "4            1              0              0              1              0   \n",
       "\n",
       "   ...  population_s  population_v  population_y  habitat_d  habitat_g  \\\n",
       "0  ...             1             0             0          0          0   \n",
       "1  ...             0             0             0          0          1   \n",
       "2  ...             0             0             0          0          0   \n",
       "3  ...             1             0             0          0          0   \n",
       "4  ...             0             0             0          0          1   \n",
       "\n",
       "   habitat_l  habitat_m  habitat_p  habitat_u  habitat_w  \n",
       "0          0          0          0          1          0  \n",
       "1          0          0          0          0          0  \n",
       "2          0          1          0          0          0  \n",
       "3          0          0          0          1          0  \n",
       "4          0          0          0          0          0  \n",
       "\n",
       "[5 rows x 117 columns]"
      ]
     },
     "execution_count": 90,
     "metadata": {},
     "output_type": "execute_result"
    }
   ],
   "source": [
    "# 원핫 인코딩할 컬럼 뽑아서 넣어주어야함\n",
    "X_one_hot=pd.get_dummies(X2)\n",
    "X_one_hot.head()"
   ]
  },
  {
   "cell_type": "markdown",
   "id": "09b34ff0",
   "metadata": {},
   "source": [
    "## 훈련과 평가로 데이터 분리"
   ]
  },
  {
   "cell_type": "code",
   "execution_count": 91,
   "id": "1a6007f0",
   "metadata": {},
   "outputs": [],
   "source": [
    "from sklearn.model_selection import train_test_split\n",
    "X_train, X_test, y_train, y_test = train_test_split(X_one_hot, y, test_size=0.3)"
   ]
  },
  {
   "cell_type": "markdown",
   "id": "611a96dd",
   "metadata": {},
   "source": [
    "## 모델 불러오기"
   ]
  },
  {
   "cell_type": "code",
   "execution_count": 92,
   "id": "39cb64c2",
   "metadata": {},
   "outputs": [],
   "source": [
    "from sklearn.tree import DecisionTreeClassifier\n",
    "tree_model = DecisionTreeClassifier()"
   ]
  },
  {
   "cell_type": "markdown",
   "id": "ddde7c1a",
   "metadata": {},
   "source": [
    "# 학습"
   ]
  },
  {
   "cell_type": "code",
   "execution_count": 93,
   "id": "1fbe5f4c",
   "metadata": {
    "scrolled": true
   },
   "outputs": [
    {
     "data": {
      "text/plain": [
       "DecisionTreeClassifier()"
      ]
     },
     "execution_count": 93,
     "metadata": {},
     "output_type": "execute_result"
    }
   ],
   "source": [
    "tree_model.fit(X_train, y_train)"
   ]
  },
  {
   "cell_type": "markdown",
   "id": "52c6a1af",
   "metadata": {},
   "source": [
    "# 평가"
   ]
  },
  {
   "cell_type": "code",
   "execution_count": 94,
   "id": "06213369",
   "metadata": {},
   "outputs": [
    {
     "data": {
      "text/plain": [
       "1.0"
      ]
     },
     "execution_count": 94,
     "metadata": {},
     "output_type": "execute_result"
    }
   ],
   "source": [
    "tree_model.score(X_train, y_train)"
   ]
  },
  {
   "cell_type": "code",
   "execution_count": 95,
   "id": "c8ebab24",
   "metadata": {},
   "outputs": [
    {
     "data": {
      "text/plain": [
       "1.0"
      ]
     },
     "execution_count": 95,
     "metadata": {},
     "output_type": "execute_result"
    }
   ],
   "source": [
    "tree_model.score(X_test, y_test)"
   ]
  },
  {
   "cell_type": "markdown",
   "id": "805bdb5e",
   "metadata": {},
   "source": [
    "# 시각화"
   ]
  },
  {
   "cell_type": "code",
   "execution_count": 96,
   "id": "ef930220",
   "metadata": {},
   "outputs": [
    {
     "name": "stdout",
     "output_type": "stream",
     "text": [
      "Requirement already satisfied: graphviz in c:\\users\\smhrd\\anaconda3\\lib\\site-packages (0.19.1)\n"
     ]
    }
   ],
   "source": [
    "!pip install graphviz"
   ]
  },
  {
   "cell_type": "code",
   "execution_count": 97,
   "id": "73437bfb",
   "metadata": {},
   "outputs": [],
   "source": [
    "# 환경 변수\n",
    "import os\n",
    "os.environ[\"PATH\"]+=os.pathsep+'c:/Program Files/Graphviz/bin/'"
   ]
  },
  {
   "cell_type": "code",
   "execution_count": 98,
   "id": "6c69f05a",
   "metadata": {},
   "outputs": [],
   "source": [
    "from sklearn.tree import export_graphviz\n",
    "export_graphviz(tree_model, out_file='tree.dot',\n",
    "               class_names=['p','e'],\n",
    "               feature_names=X_one_hot.columns,\n",
    "               impurity=True,\n",
    "               filled=True)"
   ]
  },
  {
   "cell_type": "code",
   "execution_count": 99,
   "id": "b7ddfabf",
   "metadata": {
    "scrolled": true
   },
   "outputs": [
    {
     "data": {
      "image/svg+xml": [
       "<?xml version=\"1.0\" encoding=\"UTF-8\" standalone=\"no\"?>\n",
       "<!DOCTYPE svg PUBLIC \"-//W3C//DTD SVG 1.1//EN\"\n",
       " \"http://www.w3.org/Graphics/SVG/1.1/DTD/svg11.dtd\">\n",
       "<!-- Generated by graphviz version 2.50.0 (20211204.2007)\n",
       " -->\n",
       "<!-- Title: Tree Pages: 1 -->\n",
       "<svg width=\"1101pt\" height=\"790pt\"\n",
       " viewBox=\"0.00 0.00 1100.50 790.00\" xmlns=\"http://www.w3.org/2000/svg\" xmlns:xlink=\"http://www.w3.org/1999/xlink\">\n",
       "<g id=\"graph0\" class=\"graph\" transform=\"scale(1 1) rotate(0) translate(4 786)\">\n",
       "<title>Tree</title>\n",
       "<polygon fill=\"white\" stroke=\"transparent\" points=\"-4,4 -4,-786 1096.5,-786 1096.5,4 -4,4\"/>\n",
       "<!-- 0 -->\n",
       "<g id=\"node1\" class=\"node\">\n",
       "<title>0</title>\n",
       "<polygon fill=\"#fef9f5\" stroke=\"black\" points=\"725,-782 579,-782 579,-699 725,-699 725,-782\"/>\n",
       "<text text-anchor=\"middle\" x=\"652\" y=\"-766.8\" font-family=\"Helvetica,sans-Serif\" font-size=\"14.00\">odor_n &lt;= 0.5</text>\n",
       "<text text-anchor=\"middle\" x=\"652\" y=\"-751.8\" font-family=\"Helvetica,sans-Serif\" font-size=\"14.00\">gini = 0.5</text>\n",
       "<text text-anchor=\"middle\" x=\"652\" y=\"-736.8\" font-family=\"Helvetica,sans-Serif\" font-size=\"14.00\">samples = 5686</text>\n",
       "<text text-anchor=\"middle\" x=\"652\" y=\"-721.8\" font-family=\"Helvetica,sans-Serif\" font-size=\"14.00\">value = [2914, 2772]</text>\n",
       "<text text-anchor=\"middle\" x=\"652\" y=\"-706.8\" font-family=\"Helvetica,sans-Serif\" font-size=\"14.00\">class = p</text>\n",
       "</g>\n",
       "<!-- 1 -->\n",
       "<g id=\"node2\" class=\"node\">\n",
       "<title>1</title>\n",
       "<polygon fill=\"#63b2ea\" stroke=\"black\" points=\"599,-663 461,-663 461,-580 599,-580 599,-663\"/>\n",
       "<text text-anchor=\"middle\" x=\"530\" y=\"-647.8\" font-family=\"Helvetica,sans-Serif\" font-size=\"14.00\">stalk&#45;root_c &lt;= 0.5</text>\n",
       "<text text-anchor=\"middle\" x=\"530\" y=\"-632.8\" font-family=\"Helvetica,sans-Serif\" font-size=\"14.00\">gini = 0.288</text>\n",
       "<text text-anchor=\"middle\" x=\"530\" y=\"-617.8\" font-family=\"Helvetica,sans-Serif\" font-size=\"14.00\">samples = 3250</text>\n",
       "<text text-anchor=\"middle\" x=\"530\" y=\"-602.8\" font-family=\"Helvetica,sans-Serif\" font-size=\"14.00\">value = [566, 2684]</text>\n",
       "<text text-anchor=\"middle\" x=\"530\" y=\"-587.8\" font-family=\"Helvetica,sans-Serif\" font-size=\"14.00\">class = e</text>\n",
       "</g>\n",
       "<!-- 0&#45;&gt;1 -->\n",
       "<g id=\"edge1\" class=\"edge\">\n",
       "<title>0&#45;&gt;1</title>\n",
       "<path fill=\"none\" stroke=\"black\" d=\"M609.67,-698.91C600.02,-689.65 589.68,-679.73 579.75,-670.21\"/>\n",
       "<polygon fill=\"black\" stroke=\"black\" points=\"581.89,-667.42 572.25,-663.02 577.05,-672.47 581.89,-667.42\"/>\n",
       "<text text-anchor=\"middle\" x=\"572.78\" y=\"-684.32\" font-family=\"Helvetica,sans-Serif\" font-size=\"14.00\">True</text>\n",
       "</g>\n",
       "<!-- 12 -->\n",
       "<g id=\"node13\" class=\"node\">\n",
       "<title>12</title>\n",
       "<polygon fill=\"#e68640\" stroke=\"black\" points=\"864,-663 686,-663 686,-580 864,-580 864,-663\"/>\n",
       "<text text-anchor=\"middle\" x=\"775\" y=\"-647.8\" font-family=\"Helvetica,sans-Serif\" font-size=\"14.00\">spore&#45;print&#45;color_r &lt;= 0.5</text>\n",
       "<text text-anchor=\"middle\" x=\"775\" y=\"-632.8\" font-family=\"Helvetica,sans-Serif\" font-size=\"14.00\">gini = 0.07</text>\n",
       "<text text-anchor=\"middle\" x=\"775\" y=\"-617.8\" font-family=\"Helvetica,sans-Serif\" font-size=\"14.00\">samples = 2436</text>\n",
       "<text text-anchor=\"middle\" x=\"775\" y=\"-602.8\" font-family=\"Helvetica,sans-Serif\" font-size=\"14.00\">value = [2348, 88]</text>\n",
       "<text text-anchor=\"middle\" x=\"775\" y=\"-587.8\" font-family=\"Helvetica,sans-Serif\" font-size=\"14.00\">class = p</text>\n",
       "</g>\n",
       "<!-- 0&#45;&gt;12 -->\n",
       "<g id=\"edge12\" class=\"edge\">\n",
       "<title>0&#45;&gt;12</title>\n",
       "<path fill=\"none\" stroke=\"black\" d=\"M694.67,-698.91C704.5,-689.56 715.04,-679.54 725.14,-669.93\"/>\n",
       "<polygon fill=\"black\" stroke=\"black\" points=\"727.57,-672.45 732.4,-663.02 722.74,-667.38 727.57,-672.45\"/>\n",
       "<text text-anchor=\"middle\" x=\"731.78\" y=\"-684.31\" font-family=\"Helvetica,sans-Serif\" font-size=\"14.00\">False</text>\n",
       "</g>\n",
       "<!-- 2 -->\n",
       "<g id=\"node3\" class=\"node\">\n",
       "<title>2</title>\n",
       "<polygon fill=\"#48a4e7\" stroke=\"black\" points=\"398,-544 260,-544 260,-461 398,-461 398,-544\"/>\n",
       "<text text-anchor=\"middle\" x=\"329\" y=\"-528.8\" font-family=\"Helvetica,sans-Serif\" font-size=\"14.00\">stalk&#45;root_r &lt;= 0.5</text>\n",
       "<text text-anchor=\"middle\" x=\"329\" y=\"-513.8\" font-family=\"Helvetica,sans-Serif\" font-size=\"14.00\">gini = 0.13</text>\n",
       "<text text-anchor=\"middle\" x=\"329\" y=\"-498.8\" font-family=\"Helvetica,sans-Serif\" font-size=\"14.00\">samples = 2857</text>\n",
       "<text text-anchor=\"middle\" x=\"329\" y=\"-483.8\" font-family=\"Helvetica,sans-Serif\" font-size=\"14.00\">value = [199, 2658]</text>\n",
       "<text text-anchor=\"middle\" x=\"329\" y=\"-468.8\" font-family=\"Helvetica,sans-Serif\" font-size=\"14.00\">class = e</text>\n",
       "</g>\n",
       "<!-- 1&#45;&gt;2 -->\n",
       "<g id=\"edge2\" class=\"edge\">\n",
       "<title>1&#45;&gt;2</title>\n",
       "<path fill=\"none\" stroke=\"black\" d=\"M460.83,-580.24C443.61,-570.22 425.04,-559.4 407.42,-549.15\"/>\n",
       "<polygon fill=\"black\" stroke=\"black\" points=\"408.7,-545.84 398.3,-543.84 405.18,-551.89 408.7,-545.84\"/>\n",
       "</g>\n",
       "<!-- 9 -->\n",
       "<g id=\"node10\" class=\"node\">\n",
       "<title>9</title>\n",
       "<polygon fill=\"#e78a47\" stroke=\"black\" points=\"643.5,-544 416.5,-544 416.5,-461 643.5,-461 643.5,-544\"/>\n",
       "<text text-anchor=\"middle\" x=\"530\" y=\"-528.8\" font-family=\"Helvetica,sans-Serif\" font-size=\"14.00\">stalk&#45;surface&#45;above&#45;ring_k &lt;= 0.5</text>\n",
       "<text text-anchor=\"middle\" x=\"530\" y=\"-513.8\" font-family=\"Helvetica,sans-Serif\" font-size=\"14.00\">gini = 0.124</text>\n",
       "<text text-anchor=\"middle\" x=\"530\" y=\"-498.8\" font-family=\"Helvetica,sans-Serif\" font-size=\"14.00\">samples = 393</text>\n",
       "<text text-anchor=\"middle\" x=\"530\" y=\"-483.8\" font-family=\"Helvetica,sans-Serif\" font-size=\"14.00\">value = [367, 26]</text>\n",
       "<text text-anchor=\"middle\" x=\"530\" y=\"-468.8\" font-family=\"Helvetica,sans-Serif\" font-size=\"14.00\">class = p</text>\n",
       "</g>\n",
       "<!-- 1&#45;&gt;9 -->\n",
       "<g id=\"edge9\" class=\"edge\">\n",
       "<title>1&#45;&gt;9</title>\n",
       "<path fill=\"none\" stroke=\"black\" d=\"M530,-579.91C530,-571.65 530,-562.86 530,-554.3\"/>\n",
       "<polygon fill=\"black\" stroke=\"black\" points=\"533.5,-554.02 530,-544.02 526.5,-554.02 533.5,-554.02\"/>\n",
       "</g>\n",
       "<!-- 3 -->\n",
       "<g id=\"node4\" class=\"node\">\n",
       "<title>3</title>\n",
       "<polygon fill=\"#3e9fe6\" stroke=\"black\" points=\"260,-425 130,-425 130,-342 260,-342 260,-425\"/>\n",
       "<text text-anchor=\"middle\" x=\"195\" y=\"-409.8\" font-family=\"Helvetica,sans-Serif\" font-size=\"14.00\">odor_l &lt;= 0.5</text>\n",
       "<text text-anchor=\"middle\" x=\"195\" y=\"-394.8\" font-family=\"Helvetica,sans-Serif\" font-size=\"14.00\">gini = 0.048</text>\n",
       "<text text-anchor=\"middle\" x=\"195\" y=\"-379.8\" font-family=\"Helvetica,sans-Serif\" font-size=\"14.00\">samples = 2725</text>\n",
       "<text text-anchor=\"middle\" x=\"195\" y=\"-364.8\" font-family=\"Helvetica,sans-Serif\" font-size=\"14.00\">value = [67, 2658]</text>\n",
       "<text text-anchor=\"middle\" x=\"195\" y=\"-349.8\" font-family=\"Helvetica,sans-Serif\" font-size=\"14.00\">class = e</text>\n",
       "</g>\n",
       "<!-- 2&#45;&gt;3 -->\n",
       "<g id=\"edge3\" class=\"edge\">\n",
       "<title>2&#45;&gt;3</title>\n",
       "<path fill=\"none\" stroke=\"black\" d=\"M282.51,-460.91C271.7,-451.47 260.1,-441.34 249,-431.65\"/>\n",
       "<polygon fill=\"black\" stroke=\"black\" points=\"251.24,-428.96 241.41,-425.02 246.64,-434.23 251.24,-428.96\"/>\n",
       "</g>\n",
       "<!-- 8 -->\n",
       "<g id=\"node9\" class=\"node\">\n",
       "<title>8</title>\n",
       "<polygon fill=\"#e58139\" stroke=\"black\" points=\"391.5,-417.5 278.5,-417.5 278.5,-349.5 391.5,-349.5 391.5,-417.5\"/>\n",
       "<text text-anchor=\"middle\" x=\"335\" y=\"-402.3\" font-family=\"Helvetica,sans-Serif\" font-size=\"14.00\">gini = 0.0</text>\n",
       "<text text-anchor=\"middle\" x=\"335\" y=\"-387.3\" font-family=\"Helvetica,sans-Serif\" font-size=\"14.00\">samples = 132</text>\n",
       "<text text-anchor=\"middle\" x=\"335\" y=\"-372.3\" font-family=\"Helvetica,sans-Serif\" font-size=\"14.00\">value = [132, 0]</text>\n",
       "<text text-anchor=\"middle\" x=\"335\" y=\"-357.3\" font-family=\"Helvetica,sans-Serif\" font-size=\"14.00\">class = p</text>\n",
       "</g>\n",
       "<!-- 2&#45;&gt;8 -->\n",
       "<g id=\"edge8\" class=\"edge\">\n",
       "<title>2&#45;&gt;8</title>\n",
       "<path fill=\"none\" stroke=\"black\" d=\"M331.08,-460.91C331.63,-450.2 332.22,-438.62 332.78,-427.78\"/>\n",
       "<polygon fill=\"black\" stroke=\"black\" points=\"336.28,-427.83 333.3,-417.67 329.29,-427.47 336.28,-427.83\"/>\n",
       "</g>\n",
       "<!-- 4 -->\n",
       "<g id=\"node5\" class=\"node\">\n",
       "<title>4</title>\n",
       "<polygon fill=\"#3b9ee5\" stroke=\"black\" points=\"192,-306 62,-306 62,-223 192,-223 192,-306\"/>\n",
       "<text text-anchor=\"middle\" x=\"127\" y=\"-290.8\" font-family=\"Helvetica,sans-Serif\" font-size=\"14.00\">odor_a &lt;= 0.5</text>\n",
       "<text text-anchor=\"middle\" x=\"127\" y=\"-275.8\" font-family=\"Helvetica,sans-Serif\" font-size=\"14.00\">gini = 0.024</text>\n",
       "<text text-anchor=\"middle\" x=\"127\" y=\"-260.8\" font-family=\"Helvetica,sans-Serif\" font-size=\"14.00\">samples = 2691</text>\n",
       "<text text-anchor=\"middle\" x=\"127\" y=\"-245.8\" font-family=\"Helvetica,sans-Serif\" font-size=\"14.00\">value = [33, 2658]</text>\n",
       "<text text-anchor=\"middle\" x=\"127\" y=\"-230.8\" font-family=\"Helvetica,sans-Serif\" font-size=\"14.00\">class = e</text>\n",
       "</g>\n",
       "<!-- 3&#45;&gt;4 -->\n",
       "<g id=\"edge4\" class=\"edge\">\n",
       "<title>3&#45;&gt;4</title>\n",
       "<path fill=\"none\" stroke=\"black\" d=\"M171.41,-341.91C166.34,-333.2 160.94,-323.9 155.71,-314.89\"/>\n",
       "<polygon fill=\"black\" stroke=\"black\" points=\"158.6,-312.91 150.55,-306.02 152.55,-316.43 158.6,-312.91\"/>\n",
       "</g>\n",
       "<!-- 7 -->\n",
       "<g id=\"node8\" class=\"node\">\n",
       "<title>7</title>\n",
       "<polygon fill=\"#e58139\" stroke=\"black\" points=\"315.5,-298.5 210.5,-298.5 210.5,-230.5 315.5,-230.5 315.5,-298.5\"/>\n",
       "<text text-anchor=\"middle\" x=\"263\" y=\"-283.3\" font-family=\"Helvetica,sans-Serif\" font-size=\"14.00\">gini = 0.0</text>\n",
       "<text text-anchor=\"middle\" x=\"263\" y=\"-268.3\" font-family=\"Helvetica,sans-Serif\" font-size=\"14.00\">samples = 34</text>\n",
       "<text text-anchor=\"middle\" x=\"263\" y=\"-253.3\" font-family=\"Helvetica,sans-Serif\" font-size=\"14.00\">value = [34, 0]</text>\n",
       "<text text-anchor=\"middle\" x=\"263\" y=\"-238.3\" font-family=\"Helvetica,sans-Serif\" font-size=\"14.00\">class = p</text>\n",
       "</g>\n",
       "<!-- 3&#45;&gt;7 -->\n",
       "<g id=\"edge7\" class=\"edge\">\n",
       "<title>3&#45;&gt;7</title>\n",
       "<path fill=\"none\" stroke=\"black\" d=\"M218.59,-341.91C225.07,-330.76 232.1,-318.66 238.63,-307.44\"/>\n",
       "<polygon fill=\"black\" stroke=\"black\" points=\"241.72,-309.07 243.72,-298.67 235.67,-305.55 241.72,-309.07\"/>\n",
       "</g>\n",
       "<!-- 5 -->\n",
       "<g id=\"node6\" class=\"node\">\n",
       "<title>5</title>\n",
       "<polygon fill=\"#399de5\" stroke=\"black\" points=\"122,-179.5 0,-179.5 0,-111.5 122,-111.5 122,-179.5\"/>\n",
       "<text text-anchor=\"middle\" x=\"61\" y=\"-164.3\" font-family=\"Helvetica,sans-Serif\" font-size=\"14.00\">gini = 0.0</text>\n",
       "<text text-anchor=\"middle\" x=\"61\" y=\"-149.3\" font-family=\"Helvetica,sans-Serif\" font-size=\"14.00\">samples = 2658</text>\n",
       "<text text-anchor=\"middle\" x=\"61\" y=\"-134.3\" font-family=\"Helvetica,sans-Serif\" font-size=\"14.00\">value = [0, 2658]</text>\n",
       "<text text-anchor=\"middle\" x=\"61\" y=\"-119.3\" font-family=\"Helvetica,sans-Serif\" font-size=\"14.00\">class = e</text>\n",
       "</g>\n",
       "<!-- 4&#45;&gt;5 -->\n",
       "<g id=\"edge5\" class=\"edge\">\n",
       "<title>4&#45;&gt;5</title>\n",
       "<path fill=\"none\" stroke=\"black\" d=\"M104.1,-222.91C97.81,-211.76 90.99,-199.66 84.66,-188.44\"/>\n",
       "<polygon fill=\"black\" stroke=\"black\" points=\"87.67,-186.66 79.71,-179.67 81.57,-190.1 87.67,-186.66\"/>\n",
       "</g>\n",
       "<!-- 6 -->\n",
       "<g id=\"node7\" class=\"node\">\n",
       "<title>6</title>\n",
       "<polygon fill=\"#e58139\" stroke=\"black\" points=\"245.5,-179.5 140.5,-179.5 140.5,-111.5 245.5,-111.5 245.5,-179.5\"/>\n",
       "<text text-anchor=\"middle\" x=\"193\" y=\"-164.3\" font-family=\"Helvetica,sans-Serif\" font-size=\"14.00\">gini = 0.0</text>\n",
       "<text text-anchor=\"middle\" x=\"193\" y=\"-149.3\" font-family=\"Helvetica,sans-Serif\" font-size=\"14.00\">samples = 33</text>\n",
       "<text text-anchor=\"middle\" x=\"193\" y=\"-134.3\" font-family=\"Helvetica,sans-Serif\" font-size=\"14.00\">value = [33, 0]</text>\n",
       "<text text-anchor=\"middle\" x=\"193\" y=\"-119.3\" font-family=\"Helvetica,sans-Serif\" font-size=\"14.00\">class = p</text>\n",
       "</g>\n",
       "<!-- 4&#45;&gt;6 -->\n",
       "<g id=\"edge6\" class=\"edge\">\n",
       "<title>4&#45;&gt;6</title>\n",
       "<path fill=\"none\" stroke=\"black\" d=\"M149.9,-222.91C156.19,-211.76 163.01,-199.66 169.34,-188.44\"/>\n",
       "<polygon fill=\"black\" stroke=\"black\" points=\"172.43,-190.1 174.29,-179.67 166.33,-186.66 172.43,-190.1\"/>\n",
       "</g>\n",
       "<!-- 10 -->\n",
       "<g id=\"node11\" class=\"node\">\n",
       "<title>10</title>\n",
       "<polygon fill=\"#e58139\" stroke=\"black\" points=\"542.5,-417.5 429.5,-417.5 429.5,-349.5 542.5,-349.5 542.5,-417.5\"/>\n",
       "<text text-anchor=\"middle\" x=\"486\" y=\"-402.3\" font-family=\"Helvetica,sans-Serif\" font-size=\"14.00\">gini = 0.0</text>\n",
       "<text text-anchor=\"middle\" x=\"486\" y=\"-387.3\" font-family=\"Helvetica,sans-Serif\" font-size=\"14.00\">samples = 367</text>\n",
       "<text text-anchor=\"middle\" x=\"486\" y=\"-372.3\" font-family=\"Helvetica,sans-Serif\" font-size=\"14.00\">value = [367, 0]</text>\n",
       "<text text-anchor=\"middle\" x=\"486\" y=\"-357.3\" font-family=\"Helvetica,sans-Serif\" font-size=\"14.00\">class = p</text>\n",
       "</g>\n",
       "<!-- 9&#45;&gt;10 -->\n",
       "<g id=\"edge10\" class=\"edge\">\n",
       "<title>9&#45;&gt;10</title>\n",
       "<path fill=\"none\" stroke=\"black\" d=\"M514.73,-460.91C510.63,-449.98 506.17,-438.14 502.02,-427.11\"/>\n",
       "<polygon fill=\"black\" stroke=\"black\" points=\"505.27,-425.79 498.47,-417.67 498.72,-428.26 505.27,-425.79\"/>\n",
       "</g>\n",
       "<!-- 11 -->\n",
       "<g id=\"node12\" class=\"node\">\n",
       "<title>11</title>\n",
       "<polygon fill=\"#399de5\" stroke=\"black\" points=\"665.5,-417.5 560.5,-417.5 560.5,-349.5 665.5,-349.5 665.5,-417.5\"/>\n",
       "<text text-anchor=\"middle\" x=\"613\" y=\"-402.3\" font-family=\"Helvetica,sans-Serif\" font-size=\"14.00\">gini = 0.0</text>\n",
       "<text text-anchor=\"middle\" x=\"613\" y=\"-387.3\" font-family=\"Helvetica,sans-Serif\" font-size=\"14.00\">samples = 26</text>\n",
       "<text text-anchor=\"middle\" x=\"613\" y=\"-372.3\" font-family=\"Helvetica,sans-Serif\" font-size=\"14.00\">value = [0, 26]</text>\n",
       "<text text-anchor=\"middle\" x=\"613\" y=\"-357.3\" font-family=\"Helvetica,sans-Serif\" font-size=\"14.00\">class = e</text>\n",
       "</g>\n",
       "<!-- 9&#45;&gt;11 -->\n",
       "<g id=\"edge11\" class=\"edge\">\n",
       "<title>9&#45;&gt;11</title>\n",
       "<path fill=\"none\" stroke=\"black\" d=\"M558.8,-460.91C566.78,-449.65 575.46,-437.42 583.48,-426.11\"/>\n",
       "<polygon fill=\"black\" stroke=\"black\" points=\"586.54,-427.85 589.47,-417.67 580.83,-423.8 586.54,-427.85\"/>\n",
       "</g>\n",
       "<!-- 13 -->\n",
       "<g id=\"node14\" class=\"node\">\n",
       "<title>13</title>\n",
       "<polygon fill=\"#e5833c\" stroke=\"black\" points=\"888,-544 662,-544 662,-461 888,-461 888,-544\"/>\n",
       "<text text-anchor=\"middle\" x=\"775\" y=\"-528.8\" font-family=\"Helvetica,sans-Serif\" font-size=\"14.00\">stalk&#45;surface&#45;below&#45;ring_y &lt;= 0.5</text>\n",
       "<text text-anchor=\"middle\" x=\"775\" y=\"-513.8\" font-family=\"Helvetica,sans-Serif\" font-size=\"14.00\">gini = 0.032</text>\n",
       "<text text-anchor=\"middle\" x=\"775\" y=\"-498.8\" font-family=\"Helvetica,sans-Serif\" font-size=\"14.00\">samples = 2387</text>\n",
       "<text text-anchor=\"middle\" x=\"775\" y=\"-483.8\" font-family=\"Helvetica,sans-Serif\" font-size=\"14.00\">value = [2348, 39]</text>\n",
       "<text text-anchor=\"middle\" x=\"775\" y=\"-468.8\" font-family=\"Helvetica,sans-Serif\" font-size=\"14.00\">class = p</text>\n",
       "</g>\n",
       "<!-- 12&#45;&gt;13 -->\n",
       "<g id=\"edge13\" class=\"edge\">\n",
       "<title>12&#45;&gt;13</title>\n",
       "<path fill=\"none\" stroke=\"black\" d=\"M775,-579.91C775,-571.65 775,-562.86 775,-554.3\"/>\n",
       "<polygon fill=\"black\" stroke=\"black\" points=\"778.5,-554.02 775,-544.02 771.5,-554.02 778.5,-554.02\"/>\n",
       "</g>\n",
       "<!-- 24 -->\n",
       "<g id=\"node25\" class=\"node\">\n",
       "<title>24</title>\n",
       "<polygon fill=\"#399de5\" stroke=\"black\" points=\"1011.5,-536.5 906.5,-536.5 906.5,-468.5 1011.5,-468.5 1011.5,-536.5\"/>\n",
       "<text text-anchor=\"middle\" x=\"959\" y=\"-521.3\" font-family=\"Helvetica,sans-Serif\" font-size=\"14.00\">gini = 0.0</text>\n",
       "<text text-anchor=\"middle\" x=\"959\" y=\"-506.3\" font-family=\"Helvetica,sans-Serif\" font-size=\"14.00\">samples = 49</text>\n",
       "<text text-anchor=\"middle\" x=\"959\" y=\"-491.3\" font-family=\"Helvetica,sans-Serif\" font-size=\"14.00\">value = [0, 49]</text>\n",
       "<text text-anchor=\"middle\" x=\"959\" y=\"-476.3\" font-family=\"Helvetica,sans-Serif\" font-size=\"14.00\">class = e</text>\n",
       "</g>\n",
       "<!-- 12&#45;&gt;24 -->\n",
       "<g id=\"edge24\" class=\"edge\">\n",
       "<title>12&#45;&gt;24</title>\n",
       "<path fill=\"none\" stroke=\"black\" d=\"M840.36,-579.83C858.72,-568.32 878.68,-555.73 897,-544 898.07,-543.32 899.14,-542.63 900.22,-541.93\"/>\n",
       "<polygon fill=\"black\" stroke=\"black\" points=\"902.12,-544.87 908.63,-536.51 898.33,-538.99 902.12,-544.87\"/>\n",
       "</g>\n",
       "<!-- 14 -->\n",
       "<g id=\"node15\" class=\"node\">\n",
       "<title>14</title>\n",
       "<polygon fill=\"#e58139\" stroke=\"black\" points=\"846,-425 694,-425 694,-342 846,-342 846,-425\"/>\n",
       "<text text-anchor=\"middle\" x=\"770\" y=\"-409.8\" font-family=\"Helvetica,sans-Serif\" font-size=\"14.00\">cap&#45;surface_g &lt;= 0.5</text>\n",
       "<text text-anchor=\"middle\" x=\"770\" y=\"-394.8\" font-family=\"Helvetica,sans-Serif\" font-size=\"14.00\">gini = 0.003</text>\n",
       "<text text-anchor=\"middle\" x=\"770\" y=\"-379.8\" font-family=\"Helvetica,sans-Serif\" font-size=\"14.00\">samples = 2340</text>\n",
       "<text text-anchor=\"middle\" x=\"770\" y=\"-364.8\" font-family=\"Helvetica,sans-Serif\" font-size=\"14.00\">value = [2336, 4]</text>\n",
       "<text text-anchor=\"middle\" x=\"770\" y=\"-349.8\" font-family=\"Helvetica,sans-Serif\" font-size=\"14.00\">class = p</text>\n",
       "</g>\n",
       "<!-- 13&#45;&gt;14 -->\n",
       "<g id=\"edge14\" class=\"edge\">\n",
       "<title>13&#45;&gt;14</title>\n",
       "<path fill=\"none\" stroke=\"black\" d=\"M773.27,-460.91C772.91,-452.56 772.53,-443.67 772.16,-435.02\"/>\n",
       "<polygon fill=\"black\" stroke=\"black\" points=\"775.66,-434.86 771.73,-425.02 768.66,-435.16 775.66,-434.86\"/>\n",
       "</g>\n",
       "<!-- 21 -->\n",
       "<g id=\"node22\" class=\"node\">\n",
       "<title>21</title>\n",
       "<polygon fill=\"#7dbfee\" stroke=\"black\" points=\"989.5,-425 864.5,-425 864.5,-342 989.5,-342 989.5,-425\"/>\n",
       "<text text-anchor=\"middle\" x=\"927\" y=\"-409.8\" font-family=\"Helvetica,sans-Serif\" font-size=\"14.00\">gill&#45;size_b &lt;= 0.5</text>\n",
       "<text text-anchor=\"middle\" x=\"927\" y=\"-394.8\" font-family=\"Helvetica,sans-Serif\" font-size=\"14.00\">gini = 0.38</text>\n",
       "<text text-anchor=\"middle\" x=\"927\" y=\"-379.8\" font-family=\"Helvetica,sans-Serif\" font-size=\"14.00\">samples = 47</text>\n",
       "<text text-anchor=\"middle\" x=\"927\" y=\"-364.8\" font-family=\"Helvetica,sans-Serif\" font-size=\"14.00\">value = [12, 35]</text>\n",
       "<text text-anchor=\"middle\" x=\"927\" y=\"-349.8\" font-family=\"Helvetica,sans-Serif\" font-size=\"14.00\">class = e</text>\n",
       "</g>\n",
       "<!-- 13&#45;&gt;21 -->\n",
       "<g id=\"edge21\" class=\"edge\">\n",
       "<title>13&#45;&gt;21</title>\n",
       "<path fill=\"none\" stroke=\"black\" d=\"M827.74,-460.91C840.12,-451.38 853.41,-441.15 866.11,-431.37\"/>\n",
       "<polygon fill=\"black\" stroke=\"black\" points=\"868.57,-433.89 874.36,-425.02 864.3,-428.35 868.57,-433.89\"/>\n",
       "</g>\n",
       "<!-- 15 -->\n",
       "<g id=\"node16\" class=\"node\">\n",
       "<title>15</title>\n",
       "<polygon fill=\"#e58139\" stroke=\"black\" points=\"712.5,-306 587.5,-306 587.5,-223 712.5,-223 712.5,-306\"/>\n",
       "<text text-anchor=\"middle\" x=\"650\" y=\"-290.8\" font-family=\"Helvetica,sans-Serif\" font-size=\"14.00\">gill&#45;size_b &lt;= 0.5</text>\n",
       "<text text-anchor=\"middle\" x=\"650\" y=\"-275.8\" font-family=\"Helvetica,sans-Serif\" font-size=\"14.00\">gini = 0.002</text>\n",
       "<text text-anchor=\"middle\" x=\"650\" y=\"-260.8\" font-family=\"Helvetica,sans-Serif\" font-size=\"14.00\">samples = 2338</text>\n",
       "<text text-anchor=\"middle\" x=\"650\" y=\"-245.8\" font-family=\"Helvetica,sans-Serif\" font-size=\"14.00\">value = [2336, 2]</text>\n",
       "<text text-anchor=\"middle\" x=\"650\" y=\"-230.8\" font-family=\"Helvetica,sans-Serif\" font-size=\"14.00\">class = p</text>\n",
       "</g>\n",
       "<!-- 14&#45;&gt;15 -->\n",
       "<g id=\"edge15\" class=\"edge\">\n",
       "<title>14&#45;&gt;15</title>\n",
       "<path fill=\"none\" stroke=\"black\" d=\"M728.37,-341.91C718.87,-332.65 708.7,-322.73 698.93,-313.21\"/>\n",
       "<polygon fill=\"black\" stroke=\"black\" points=\"701.16,-310.5 691.56,-306.02 696.28,-315.51 701.16,-310.5\"/>\n",
       "</g>\n",
       "<!-- 20 -->\n",
       "<g id=\"node21\" class=\"node\">\n",
       "<title>20</title>\n",
       "<polygon fill=\"#399de5\" stroke=\"black\" points=\"827.5,-298.5 730.5,-298.5 730.5,-230.5 827.5,-230.5 827.5,-298.5\"/>\n",
       "<text text-anchor=\"middle\" x=\"779\" y=\"-283.3\" font-family=\"Helvetica,sans-Serif\" font-size=\"14.00\">gini = 0.0</text>\n",
       "<text text-anchor=\"middle\" x=\"779\" y=\"-268.3\" font-family=\"Helvetica,sans-Serif\" font-size=\"14.00\">samples = 2</text>\n",
       "<text text-anchor=\"middle\" x=\"779\" y=\"-253.3\" font-family=\"Helvetica,sans-Serif\" font-size=\"14.00\">value = [0, 2]</text>\n",
       "<text text-anchor=\"middle\" x=\"779\" y=\"-238.3\" font-family=\"Helvetica,sans-Serif\" font-size=\"14.00\">class = e</text>\n",
       "</g>\n",
       "<!-- 14&#45;&gt;20 -->\n",
       "<g id=\"edge20\" class=\"edge\">\n",
       "<title>14&#45;&gt;20</title>\n",
       "<path fill=\"none\" stroke=\"black\" d=\"M773.12,-341.91C773.95,-331.2 774.84,-319.62 775.67,-308.78\"/>\n",
       "<polygon fill=\"black\" stroke=\"black\" points=\"779.17,-308.91 776.45,-298.67 772.19,-308.37 779.17,-308.91\"/>\n",
       "</g>\n",
       "<!-- 16 -->\n",
       "<g id=\"node17\" class=\"node\">\n",
       "<title>16</title>\n",
       "<polygon fill=\"#e5833c\" stroke=\"black\" points=\"640,-187 520,-187 520,-104 640,-104 640,-187\"/>\n",
       "<text text-anchor=\"middle\" x=\"580\" y=\"-171.8\" font-family=\"Helvetica,sans-Serif\" font-size=\"14.00\">bruises_f &lt;= 0.5</text>\n",
       "<text text-anchor=\"middle\" x=\"580\" y=\"-156.8\" font-family=\"Helvetica,sans-Serif\" font-size=\"14.00\">gini = 0.03</text>\n",
       "<text text-anchor=\"middle\" x=\"580\" y=\"-141.8\" font-family=\"Helvetica,sans-Serif\" font-size=\"14.00\">samples = 133</text>\n",
       "<text text-anchor=\"middle\" x=\"580\" y=\"-126.8\" font-family=\"Helvetica,sans-Serif\" font-size=\"14.00\">value = [131, 2]</text>\n",
       "<text text-anchor=\"middle\" x=\"580\" y=\"-111.8\" font-family=\"Helvetica,sans-Serif\" font-size=\"14.00\">class = p</text>\n",
       "</g>\n",
       "<!-- 15&#45;&gt;16 -->\n",
       "<g id=\"edge16\" class=\"edge\">\n",
       "<title>15&#45;&gt;16</title>\n",
       "<path fill=\"none\" stroke=\"black\" d=\"M625.71,-222.91C620.45,-214.1 614.82,-204.7 609.38,-195.61\"/>\n",
       "<polygon fill=\"black\" stroke=\"black\" points=\"612.38,-193.81 604.24,-187.02 606.37,-197.4 612.38,-193.81\"/>\n",
       "</g>\n",
       "<!-- 19 -->\n",
       "<g id=\"node20\" class=\"node\">\n",
       "<title>19</title>\n",
       "<polygon fill=\"#e58139\" stroke=\"black\" points=\"780,-179.5 658,-179.5 658,-111.5 780,-111.5 780,-179.5\"/>\n",
       "<text text-anchor=\"middle\" x=\"719\" y=\"-164.3\" font-family=\"Helvetica,sans-Serif\" font-size=\"14.00\">gini = 0.0</text>\n",
       "<text text-anchor=\"middle\" x=\"719\" y=\"-149.3\" font-family=\"Helvetica,sans-Serif\" font-size=\"14.00\">samples = 2205</text>\n",
       "<text text-anchor=\"middle\" x=\"719\" y=\"-134.3\" font-family=\"Helvetica,sans-Serif\" font-size=\"14.00\">value = [2205, 0]</text>\n",
       "<text text-anchor=\"middle\" x=\"719\" y=\"-119.3\" font-family=\"Helvetica,sans-Serif\" font-size=\"14.00\">class = p</text>\n",
       "</g>\n",
       "<!-- 15&#45;&gt;19 -->\n",
       "<g id=\"edge19\" class=\"edge\">\n",
       "<title>15&#45;&gt;19</title>\n",
       "<path fill=\"none\" stroke=\"black\" d=\"M673.94,-222.91C680.51,-211.76 687.65,-199.66 694.27,-188.44\"/>\n",
       "<polygon fill=\"black\" stroke=\"black\" points=\"697.37,-190.06 699.44,-179.67 691.35,-186.5 697.37,-190.06\"/>\n",
       "</g>\n",
       "<!-- 17 -->\n",
       "<g id=\"node18\" class=\"node\">\n",
       "<title>17</title>\n",
       "<polygon fill=\"#399de5\" stroke=\"black\" points=\"567.5,-68 470.5,-68 470.5,0 567.5,0 567.5,-68\"/>\n",
       "<text text-anchor=\"middle\" x=\"519\" y=\"-52.8\" font-family=\"Helvetica,sans-Serif\" font-size=\"14.00\">gini = 0.0</text>\n",
       "<text text-anchor=\"middle\" x=\"519\" y=\"-37.8\" font-family=\"Helvetica,sans-Serif\" font-size=\"14.00\">samples = 2</text>\n",
       "<text text-anchor=\"middle\" x=\"519\" y=\"-22.8\" font-family=\"Helvetica,sans-Serif\" font-size=\"14.00\">value = [0, 2]</text>\n",
       "<text text-anchor=\"middle\" x=\"519\" y=\"-7.8\" font-family=\"Helvetica,sans-Serif\" font-size=\"14.00\">class = e</text>\n",
       "</g>\n",
       "<!-- 16&#45;&gt;17 -->\n",
       "<g id=\"edge17\" class=\"edge\">\n",
       "<title>16&#45;&gt;17</title>\n",
       "<path fill=\"none\" stroke=\"black\" d=\"M557.29,-103.73C552.46,-95.06 547.35,-85.9 542.5,-77.18\"/>\n",
       "<polygon fill=\"black\" stroke=\"black\" points=\"545.47,-75.33 537.55,-68.3 539.36,-78.74 545.47,-75.33\"/>\n",
       "</g>\n",
       "<!-- 18 -->\n",
       "<g id=\"node19\" class=\"node\">\n",
       "<title>18</title>\n",
       "<polygon fill=\"#e58139\" stroke=\"black\" points=\"698.5,-68 585.5,-68 585.5,0 698.5,0 698.5,-68\"/>\n",
       "<text text-anchor=\"middle\" x=\"642\" y=\"-52.8\" font-family=\"Helvetica,sans-Serif\" font-size=\"14.00\">gini = 0.0</text>\n",
       "<text text-anchor=\"middle\" x=\"642\" y=\"-37.8\" font-family=\"Helvetica,sans-Serif\" font-size=\"14.00\">samples = 131</text>\n",
       "<text text-anchor=\"middle\" x=\"642\" y=\"-22.8\" font-family=\"Helvetica,sans-Serif\" font-size=\"14.00\">value = [131, 0]</text>\n",
       "<text text-anchor=\"middle\" x=\"642\" y=\"-7.8\" font-family=\"Helvetica,sans-Serif\" font-size=\"14.00\">class = p</text>\n",
       "</g>\n",
       "<!-- 16&#45;&gt;18 -->\n",
       "<g id=\"edge18\" class=\"edge\">\n",
       "<title>16&#45;&gt;18</title>\n",
       "<path fill=\"none\" stroke=\"black\" d=\"M603.09,-103.73C607.99,-95.06 613.18,-85.9 618.12,-77.18\"/>\n",
       "<polygon fill=\"black\" stroke=\"black\" points=\"621.26,-78.73 623.15,-68.3 615.17,-75.28 621.26,-78.73\"/>\n",
       "</g>\n",
       "<!-- 22 -->\n",
       "<g id=\"node23\" class=\"node\">\n",
       "<title>22</title>\n",
       "<polygon fill=\"#399de5\" stroke=\"black\" points=\"969.5,-298.5 864.5,-298.5 864.5,-230.5 969.5,-230.5 969.5,-298.5\"/>\n",
       "<text text-anchor=\"middle\" x=\"917\" y=\"-283.3\" font-family=\"Helvetica,sans-Serif\" font-size=\"14.00\">gini = 0.0</text>\n",
       "<text text-anchor=\"middle\" x=\"917\" y=\"-268.3\" font-family=\"Helvetica,sans-Serif\" font-size=\"14.00\">samples = 35</text>\n",
       "<text text-anchor=\"middle\" x=\"917\" y=\"-253.3\" font-family=\"Helvetica,sans-Serif\" font-size=\"14.00\">value = [0, 35]</text>\n",
       "<text text-anchor=\"middle\" x=\"917\" y=\"-238.3\" font-family=\"Helvetica,sans-Serif\" font-size=\"14.00\">class = e</text>\n",
       "</g>\n",
       "<!-- 21&#45;&gt;22 -->\n",
       "<g id=\"edge22\" class=\"edge\">\n",
       "<title>21&#45;&gt;22</title>\n",
       "<path fill=\"none\" stroke=\"black\" d=\"M923.53,-341.91C922.62,-331.2 921.63,-319.62 920.7,-308.78\"/>\n",
       "<polygon fill=\"black\" stroke=\"black\" points=\"924.17,-308.33 919.83,-298.67 917.2,-308.93 924.17,-308.33\"/>\n",
       "</g>\n",
       "<!-- 23 -->\n",
       "<g id=\"node24\" class=\"node\">\n",
       "<title>23</title>\n",
       "<polygon fill=\"#e58139\" stroke=\"black\" points=\"1092.5,-298.5 987.5,-298.5 987.5,-230.5 1092.5,-230.5 1092.5,-298.5\"/>\n",
       "<text text-anchor=\"middle\" x=\"1040\" y=\"-283.3\" font-family=\"Helvetica,sans-Serif\" font-size=\"14.00\">gini = 0.0</text>\n",
       "<text text-anchor=\"middle\" x=\"1040\" y=\"-268.3\" font-family=\"Helvetica,sans-Serif\" font-size=\"14.00\">samples = 12</text>\n",
       "<text text-anchor=\"middle\" x=\"1040\" y=\"-253.3\" font-family=\"Helvetica,sans-Serif\" font-size=\"14.00\">value = [12, 0]</text>\n",
       "<text text-anchor=\"middle\" x=\"1040\" y=\"-238.3\" font-family=\"Helvetica,sans-Serif\" font-size=\"14.00\">class = p</text>\n",
       "</g>\n",
       "<!-- 21&#45;&gt;23 -->\n",
       "<g id=\"edge23\" class=\"edge\">\n",
       "<title>21&#45;&gt;23</title>\n",
       "<path fill=\"none\" stroke=\"black\" d=\"M966.2,-341.91C977.39,-330.32 989.59,-317.7 1000.78,-306.11\"/>\n",
       "<polygon fill=\"black\" stroke=\"black\" points=\"1003.54,-308.29 1007.97,-298.67 998.5,-303.43 1003.54,-308.29\"/>\n",
       "</g>\n",
       "</g>\n",
       "</svg>\n"
      ],
      "text/plain": [
       "<graphviz.sources.Source at 0x1cef334f040>"
      ]
     },
     "metadata": {},
     "output_type": "display_data"
    }
   ],
   "source": [
    "import graphviz\n",
    "\n",
    "with open('tree.dot', encoding='UTF8') as f:\n",
    "    dot_graph = f.read()\n",
    "\n",
    "display(graphviz.Source(dot_graph))"
   ]
  },
  {
   "cell_type": "code",
   "execution_count": 100,
   "id": "f5e6be01",
   "metadata": {},
   "outputs": [
    {
     "data": {
      "text/plain": [
       "0"
      ]
     },
     "execution_count": 100,
     "metadata": {},
     "output_type": "execute_result"
    }
   ],
   "source": [
    "from subprocess import check_call\n",
    "check_call(['dot','-Tpng','tree.dot','-o','tree.png'])"
   ]
  },
  {
   "cell_type": "markdown",
   "id": "ec26ae3e",
   "metadata": {},
   "source": [
    "# 과대적합 제어"
   ]
  },
  {
   "cell_type": "markdown",
   "id": "80da9d2b",
   "metadata": {},
   "source": [
    "## leaf node : 10개로 조정\n",
    "- 1. leaf node의 수를 10개로 조정한 decisiontree모델 생성\n",
    "- 2. decisiontree 모델 학습\n",
    "- 3. decisiontree 모델 평가\n",
    "- 4. 시각화"
   ]
  },
  {
   "cell_type": "code",
   "execution_count": 101,
   "id": "a14c74da",
   "metadata": {},
   "outputs": [
    {
     "data": {
      "text/plain": [
       "DecisionTreeClassifier(max_leaf_nodes=10)"
      ]
     },
     "execution_count": 101,
     "metadata": {},
     "output_type": "execute_result"
    }
   ],
   "source": [
    "tree_model2=DecisionTreeClassifier(max_leaf_nodes=10)\n",
    "tree_model2.fit(X_train, y_train)"
   ]
  },
  {
   "cell_type": "code",
   "execution_count": 102,
   "id": "03f63beb",
   "metadata": {
    "collapsed": true
   },
   "outputs": [
    {
     "data": {
      "text/plain": [
       "0.9992965177629265"
      ]
     },
     "execution_count": 102,
     "metadata": {},
     "output_type": "execute_result"
    }
   ],
   "source": [
    "tree_model2.score(X_train, y_train)"
   ]
  },
  {
   "cell_type": "code",
   "execution_count": 103,
   "id": "e904d893",
   "metadata": {},
   "outputs": [
    {
     "data": {
      "text/plain": [
       "0.9983593109105825"
      ]
     },
     "execution_count": 103,
     "metadata": {},
     "output_type": "execute_result"
    }
   ],
   "source": [
    "tree_model2.score(X_test, y_test)"
   ]
  },
  {
   "cell_type": "code",
   "execution_count": 104,
   "id": "a9cf7eea",
   "metadata": {
    "collapsed": true
   },
   "outputs": [
    {
     "data": {
      "image/svg+xml": [
       "<?xml version=\"1.0\" encoding=\"UTF-8\" standalone=\"no\"?>\n",
       "<!DOCTYPE svg PUBLIC \"-//W3C//DTD SVG 1.1//EN\"\n",
       " \"http://www.w3.org/Graphics/SVG/1.1/DTD/svg11.dtd\">\n",
       "<!-- Generated by graphviz version 2.50.0 (20211204.2007)\n",
       " -->\n",
       "<!-- Title: Tree Pages: 1 -->\n",
       "<svg width=\"1055pt\" height=\"671pt\"\n",
       " viewBox=\"0.00 0.00 1054.50 671.00\" xmlns=\"http://www.w3.org/2000/svg\" xmlns:xlink=\"http://www.w3.org/1999/xlink\">\n",
       "<g id=\"graph0\" class=\"graph\" transform=\"scale(1 1) rotate(0) translate(4 667)\">\n",
       "<title>Tree</title>\n",
       "<polygon fill=\"white\" stroke=\"transparent\" points=\"-4,4 -4,-667 1050.5,-667 1050.5,4 -4,4\"/>\n",
       "<!-- 0 -->\n",
       "<g id=\"node1\" class=\"node\">\n",
       "<title>0</title>\n",
       "<polygon fill=\"#fef9f5\" stroke=\"black\" points=\"752,-663 606,-663 606,-580 752,-580 752,-663\"/>\n",
       "<text text-anchor=\"middle\" x=\"679\" y=\"-647.8\" font-family=\"Helvetica,sans-Serif\" font-size=\"14.00\">odor_n &lt;= 0.5</text>\n",
       "<text text-anchor=\"middle\" x=\"679\" y=\"-632.8\" font-family=\"Helvetica,sans-Serif\" font-size=\"14.00\">gini = 0.5</text>\n",
       "<text text-anchor=\"middle\" x=\"679\" y=\"-617.8\" font-family=\"Helvetica,sans-Serif\" font-size=\"14.00\">samples = 5686</text>\n",
       "<text text-anchor=\"middle\" x=\"679\" y=\"-602.8\" font-family=\"Helvetica,sans-Serif\" font-size=\"14.00\">value = [2914, 2772]</text>\n",
       "<text text-anchor=\"middle\" x=\"679\" y=\"-587.8\" font-family=\"Helvetica,sans-Serif\" font-size=\"14.00\">class = p</text>\n",
       "</g>\n",
       "<!-- 1 -->\n",
       "<g id=\"node2\" class=\"node\">\n",
       "<title>1</title>\n",
       "<polygon fill=\"#63b2ea\" stroke=\"black\" points=\"630,-544 492,-544 492,-461 630,-461 630,-544\"/>\n",
       "<text text-anchor=\"middle\" x=\"561\" y=\"-528.8\" font-family=\"Helvetica,sans-Serif\" font-size=\"14.00\">stalk&#45;root_c &lt;= 0.5</text>\n",
       "<text text-anchor=\"middle\" x=\"561\" y=\"-513.8\" font-family=\"Helvetica,sans-Serif\" font-size=\"14.00\">gini = 0.288</text>\n",
       "<text text-anchor=\"middle\" x=\"561\" y=\"-498.8\" font-family=\"Helvetica,sans-Serif\" font-size=\"14.00\">samples = 3250</text>\n",
       "<text text-anchor=\"middle\" x=\"561\" y=\"-483.8\" font-family=\"Helvetica,sans-Serif\" font-size=\"14.00\">value = [566, 2684]</text>\n",
       "<text text-anchor=\"middle\" x=\"561\" y=\"-468.8\" font-family=\"Helvetica,sans-Serif\" font-size=\"14.00\">class = e</text>\n",
       "</g>\n",
       "<!-- 0&#45;&gt;1 -->\n",
       "<g id=\"edge1\" class=\"edge\">\n",
       "<title>0&#45;&gt;1</title>\n",
       "<path fill=\"none\" stroke=\"black\" d=\"M638.06,-579.91C628.72,-570.65 618.72,-560.73 609.12,-551.21\"/>\n",
       "<polygon fill=\"black\" stroke=\"black\" points=\"611.43,-548.58 601.87,-544.02 606.5,-553.55 611.43,-548.58\"/>\n",
       "<text text-anchor=\"middle\" x=\"601.97\" y=\"-565.32\" font-family=\"Helvetica,sans-Serif\" font-size=\"14.00\">True</text>\n",
       "</g>\n",
       "<!-- 2 -->\n",
       "<g id=\"node13\" class=\"node\">\n",
       "<title>2</title>\n",
       "<polygon fill=\"#e68640\" stroke=\"black\" points=\"887,-544 709,-544 709,-461 887,-461 887,-544\"/>\n",
       "<text text-anchor=\"middle\" x=\"798\" y=\"-528.8\" font-family=\"Helvetica,sans-Serif\" font-size=\"14.00\">spore&#45;print&#45;color_r &lt;= 0.5</text>\n",
       "<text text-anchor=\"middle\" x=\"798\" y=\"-513.8\" font-family=\"Helvetica,sans-Serif\" font-size=\"14.00\">gini = 0.07</text>\n",
       "<text text-anchor=\"middle\" x=\"798\" y=\"-498.8\" font-family=\"Helvetica,sans-Serif\" font-size=\"14.00\">samples = 2436</text>\n",
       "<text text-anchor=\"middle\" x=\"798\" y=\"-483.8\" font-family=\"Helvetica,sans-Serif\" font-size=\"14.00\">value = [2348, 88]</text>\n",
       "<text text-anchor=\"middle\" x=\"798\" y=\"-468.8\" font-family=\"Helvetica,sans-Serif\" font-size=\"14.00\">class = p</text>\n",
       "</g>\n",
       "<!-- 0&#45;&gt;2 -->\n",
       "<g id=\"edge12\" class=\"edge\">\n",
       "<title>0&#45;&gt;2</title>\n",
       "<path fill=\"none\" stroke=\"black\" d=\"M720.29,-579.91C729.7,-570.65 739.79,-560.73 749.48,-551.21\"/>\n",
       "<polygon fill=\"black\" stroke=\"black\" points=\"752.11,-553.53 756.79,-544.02 747.2,-548.54 752.11,-553.53\"/>\n",
       "<text text-anchor=\"middle\" x=\"756.57\" y=\"-565.32\" font-family=\"Helvetica,sans-Serif\" font-size=\"14.00\">False</text>\n",
       "</g>\n",
       "<!-- 3 -->\n",
       "<g id=\"node3\" class=\"node\">\n",
       "<title>3</title>\n",
       "<polygon fill=\"#48a4e7\" stroke=\"black\" points=\"437,-425 211,-425 211,-342 437,-342 437,-425\"/>\n",
       "<text text-anchor=\"middle\" x=\"324\" y=\"-409.8\" font-family=\"Helvetica,sans-Serif\" font-size=\"14.00\">stalk&#45;surface&#45;below&#45;ring_y &lt;= 0.5</text>\n",
       "<text text-anchor=\"middle\" x=\"324\" y=\"-394.8\" font-family=\"Helvetica,sans-Serif\" font-size=\"14.00\">gini = 0.13</text>\n",
       "<text text-anchor=\"middle\" x=\"324\" y=\"-379.8\" font-family=\"Helvetica,sans-Serif\" font-size=\"14.00\">samples = 2857</text>\n",
       "<text text-anchor=\"middle\" x=\"324\" y=\"-364.8\" font-family=\"Helvetica,sans-Serif\" font-size=\"14.00\">value = [199, 2658]</text>\n",
       "<text text-anchor=\"middle\" x=\"324\" y=\"-349.8\" font-family=\"Helvetica,sans-Serif\" font-size=\"14.00\">class = e</text>\n",
       "</g>\n",
       "<!-- 1&#45;&gt;3 -->\n",
       "<g id=\"edge2\" class=\"edge\">\n",
       "<title>1&#45;&gt;3</title>\n",
       "<path fill=\"none\" stroke=\"black\" d=\"M491.81,-467.34C467.96,-455.57 440.87,-442.19 415.52,-429.68\"/>\n",
       "<polygon fill=\"black\" stroke=\"black\" points=\"416.78,-426.4 406.26,-425.11 413.68,-432.68 416.78,-426.4\"/>\n",
       "</g>\n",
       "<!-- 4 -->\n",
       "<g id=\"node10\" class=\"node\">\n",
       "<title>4</title>\n",
       "<polygon fill=\"#e78a47\" stroke=\"black\" points=\"667,-425 455,-425 455,-342 667,-342 667,-425\"/>\n",
       "<text text-anchor=\"middle\" x=\"561\" y=\"-409.8\" font-family=\"Helvetica,sans-Serif\" font-size=\"14.00\">stalk&#45;color&#45;above&#45;ring_c &lt;= 0.5</text>\n",
       "<text text-anchor=\"middle\" x=\"561\" y=\"-394.8\" font-family=\"Helvetica,sans-Serif\" font-size=\"14.00\">gini = 0.124</text>\n",
       "<text text-anchor=\"middle\" x=\"561\" y=\"-379.8\" font-family=\"Helvetica,sans-Serif\" font-size=\"14.00\">samples = 393</text>\n",
       "<text text-anchor=\"middle\" x=\"561\" y=\"-364.8\" font-family=\"Helvetica,sans-Serif\" font-size=\"14.00\">value = [367, 26]</text>\n",
       "<text text-anchor=\"middle\" x=\"561\" y=\"-349.8\" font-family=\"Helvetica,sans-Serif\" font-size=\"14.00\">class = p</text>\n",
       "</g>\n",
       "<!-- 1&#45;&gt;4 -->\n",
       "<g id=\"edge9\" class=\"edge\">\n",
       "<title>1&#45;&gt;4</title>\n",
       "<path fill=\"none\" stroke=\"black\" d=\"M561,-460.91C561,-452.65 561,-443.86 561,-435.3\"/>\n",
       "<polygon fill=\"black\" stroke=\"black\" points=\"564.5,-435.02 561,-425.02 557.5,-435.02 564.5,-435.02\"/>\n",
       "</g>\n",
       "<!-- 5 -->\n",
       "<g id=\"node4\" class=\"node\">\n",
       "<title>5</title>\n",
       "<polygon fill=\"#3e9fe6\" stroke=\"black\" points=\"260,-306 130,-306 130,-223 260,-223 260,-306\"/>\n",
       "<text text-anchor=\"middle\" x=\"195\" y=\"-290.8\" font-family=\"Helvetica,sans-Serif\" font-size=\"14.00\">odor_l &lt;= 0.5</text>\n",
       "<text text-anchor=\"middle\" x=\"195\" y=\"-275.8\" font-family=\"Helvetica,sans-Serif\" font-size=\"14.00\">gini = 0.048</text>\n",
       "<text text-anchor=\"middle\" x=\"195\" y=\"-260.8\" font-family=\"Helvetica,sans-Serif\" font-size=\"14.00\">samples = 2725</text>\n",
       "<text text-anchor=\"middle\" x=\"195\" y=\"-245.8\" font-family=\"Helvetica,sans-Serif\" font-size=\"14.00\">value = [67, 2658]</text>\n",
       "<text text-anchor=\"middle\" x=\"195\" y=\"-230.8\" font-family=\"Helvetica,sans-Serif\" font-size=\"14.00\">class = e</text>\n",
       "</g>\n",
       "<!-- 3&#45;&gt;5 -->\n",
       "<g id=\"edge3\" class=\"edge\">\n",
       "<title>3&#45;&gt;5</title>\n",
       "<path fill=\"none\" stroke=\"black\" d=\"M279.24,-341.91C268.94,-332.56 257.89,-322.54 247.29,-312.93\"/>\n",
       "<polygon fill=\"black\" stroke=\"black\" points=\"249.44,-310.15 239.68,-306.02 244.73,-315.33 249.44,-310.15\"/>\n",
       "</g>\n",
       "<!-- 6 -->\n",
       "<g id=\"node9\" class=\"node\">\n",
       "<title>6</title>\n",
       "<polygon fill=\"#e58139\" stroke=\"black\" points=\"391.5,-298.5 278.5,-298.5 278.5,-230.5 391.5,-230.5 391.5,-298.5\"/>\n",
       "<text text-anchor=\"middle\" x=\"335\" y=\"-283.3\" font-family=\"Helvetica,sans-Serif\" font-size=\"14.00\">gini = 0.0</text>\n",
       "<text text-anchor=\"middle\" x=\"335\" y=\"-268.3\" font-family=\"Helvetica,sans-Serif\" font-size=\"14.00\">samples = 132</text>\n",
       "<text text-anchor=\"middle\" x=\"335\" y=\"-253.3\" font-family=\"Helvetica,sans-Serif\" font-size=\"14.00\">value = [132, 0]</text>\n",
       "<text text-anchor=\"middle\" x=\"335\" y=\"-238.3\" font-family=\"Helvetica,sans-Serif\" font-size=\"14.00\">class = p</text>\n",
       "</g>\n",
       "<!-- 3&#45;&gt;6 -->\n",
       "<g id=\"edge8\" class=\"edge\">\n",
       "<title>3&#45;&gt;6</title>\n",
       "<path fill=\"none\" stroke=\"black\" d=\"M327.82,-341.91C328.82,-331.2 329.91,-319.62 330.93,-308.78\"/>\n",
       "<polygon fill=\"black\" stroke=\"black\" points=\"334.43,-308.95 331.88,-298.67 327.46,-308.3 334.43,-308.95\"/>\n",
       "</g>\n",
       "<!-- 9 -->\n",
       "<g id=\"node5\" class=\"node\">\n",
       "<title>9</title>\n",
       "<polygon fill=\"#3b9ee5\" stroke=\"black\" points=\"192,-187 62,-187 62,-104 192,-104 192,-187\"/>\n",
       "<text text-anchor=\"middle\" x=\"127\" y=\"-171.8\" font-family=\"Helvetica,sans-Serif\" font-size=\"14.00\">odor_a &lt;= 0.5</text>\n",
       "<text text-anchor=\"middle\" x=\"127\" y=\"-156.8\" font-family=\"Helvetica,sans-Serif\" font-size=\"14.00\">gini = 0.024</text>\n",
       "<text text-anchor=\"middle\" x=\"127\" y=\"-141.8\" font-family=\"Helvetica,sans-Serif\" font-size=\"14.00\">samples = 2691</text>\n",
       "<text text-anchor=\"middle\" x=\"127\" y=\"-126.8\" font-family=\"Helvetica,sans-Serif\" font-size=\"14.00\">value = [33, 2658]</text>\n",
       "<text text-anchor=\"middle\" x=\"127\" y=\"-111.8\" font-family=\"Helvetica,sans-Serif\" font-size=\"14.00\">class = e</text>\n",
       "</g>\n",
       "<!-- 5&#45;&gt;9 -->\n",
       "<g id=\"edge4\" class=\"edge\">\n",
       "<title>5&#45;&gt;9</title>\n",
       "<path fill=\"none\" stroke=\"black\" d=\"M171.41,-222.91C166.34,-214.2 160.94,-204.9 155.71,-195.89\"/>\n",
       "<polygon fill=\"black\" stroke=\"black\" points=\"158.6,-193.91 150.55,-187.02 152.55,-197.43 158.6,-193.91\"/>\n",
       "</g>\n",
       "<!-- 10 -->\n",
       "<g id=\"node8\" class=\"node\">\n",
       "<title>10</title>\n",
       "<polygon fill=\"#e58139\" stroke=\"black\" points=\"315.5,-179.5 210.5,-179.5 210.5,-111.5 315.5,-111.5 315.5,-179.5\"/>\n",
       "<text text-anchor=\"middle\" x=\"263\" y=\"-164.3\" font-family=\"Helvetica,sans-Serif\" font-size=\"14.00\">gini = 0.0</text>\n",
       "<text text-anchor=\"middle\" x=\"263\" y=\"-149.3\" font-family=\"Helvetica,sans-Serif\" font-size=\"14.00\">samples = 34</text>\n",
       "<text text-anchor=\"middle\" x=\"263\" y=\"-134.3\" font-family=\"Helvetica,sans-Serif\" font-size=\"14.00\">value = [34, 0]</text>\n",
       "<text text-anchor=\"middle\" x=\"263\" y=\"-119.3\" font-family=\"Helvetica,sans-Serif\" font-size=\"14.00\">class = p</text>\n",
       "</g>\n",
       "<!-- 5&#45;&gt;10 -->\n",
       "<g id=\"edge7\" class=\"edge\">\n",
       "<title>5&#45;&gt;10</title>\n",
       "<path fill=\"none\" stroke=\"black\" d=\"M218.59,-222.91C225.07,-211.76 232.1,-199.66 238.63,-188.44\"/>\n",
       "<polygon fill=\"black\" stroke=\"black\" points=\"241.72,-190.07 243.72,-179.67 235.67,-186.55 241.72,-190.07\"/>\n",
       "</g>\n",
       "<!-- 11 -->\n",
       "<g id=\"node6\" class=\"node\">\n",
       "<title>11</title>\n",
       "<polygon fill=\"#399de5\" stroke=\"black\" points=\"122,-68 0,-68 0,0 122,0 122,-68\"/>\n",
       "<text text-anchor=\"middle\" x=\"61\" y=\"-52.8\" font-family=\"Helvetica,sans-Serif\" font-size=\"14.00\">gini = 0.0</text>\n",
       "<text text-anchor=\"middle\" x=\"61\" y=\"-37.8\" font-family=\"Helvetica,sans-Serif\" font-size=\"14.00\">samples = 2658</text>\n",
       "<text text-anchor=\"middle\" x=\"61\" y=\"-22.8\" font-family=\"Helvetica,sans-Serif\" font-size=\"14.00\">value = [0, 2658]</text>\n",
       "<text text-anchor=\"middle\" x=\"61\" y=\"-7.8\" font-family=\"Helvetica,sans-Serif\" font-size=\"14.00\">class = e</text>\n",
       "</g>\n",
       "<!-- 9&#45;&gt;11 -->\n",
       "<g id=\"edge5\" class=\"edge\">\n",
       "<title>9&#45;&gt;11</title>\n",
       "<path fill=\"none\" stroke=\"black\" d=\"M102.42,-103.73C97.15,-94.97 91.56,-85.7 86.26,-76.91\"/>\n",
       "<polygon fill=\"black\" stroke=\"black\" points=\"89.23,-75.06 81.07,-68.3 83.24,-78.67 89.23,-75.06\"/>\n",
       "</g>\n",
       "<!-- 12 -->\n",
       "<g id=\"node7\" class=\"node\">\n",
       "<title>12</title>\n",
       "<polygon fill=\"#e58139\" stroke=\"black\" points=\"245.5,-68 140.5,-68 140.5,0 245.5,0 245.5,-68\"/>\n",
       "<text text-anchor=\"middle\" x=\"193\" y=\"-52.8\" font-family=\"Helvetica,sans-Serif\" font-size=\"14.00\">gini = 0.0</text>\n",
       "<text text-anchor=\"middle\" x=\"193\" y=\"-37.8\" font-family=\"Helvetica,sans-Serif\" font-size=\"14.00\">samples = 33</text>\n",
       "<text text-anchor=\"middle\" x=\"193\" y=\"-22.8\" font-family=\"Helvetica,sans-Serif\" font-size=\"14.00\">value = [33, 0]</text>\n",
       "<text text-anchor=\"middle\" x=\"193\" y=\"-7.8\" font-family=\"Helvetica,sans-Serif\" font-size=\"14.00\">class = p</text>\n",
       "</g>\n",
       "<!-- 9&#45;&gt;12 -->\n",
       "<g id=\"edge6\" class=\"edge\">\n",
       "<title>9&#45;&gt;12</title>\n",
       "<path fill=\"none\" stroke=\"black\" d=\"M151.58,-103.73C156.85,-94.97 162.44,-85.7 167.74,-76.91\"/>\n",
       "<polygon fill=\"black\" stroke=\"black\" points=\"170.76,-78.67 172.93,-68.3 164.77,-75.06 170.76,-78.67\"/>\n",
       "</g>\n",
       "<!-- 15 -->\n",
       "<g id=\"node11\" class=\"node\">\n",
       "<title>15</title>\n",
       "<polygon fill=\"#e58139\" stroke=\"black\" points=\"564.5,-298.5 451.5,-298.5 451.5,-230.5 564.5,-230.5 564.5,-298.5\"/>\n",
       "<text text-anchor=\"middle\" x=\"508\" y=\"-283.3\" font-family=\"Helvetica,sans-Serif\" font-size=\"14.00\">gini = 0.0</text>\n",
       "<text text-anchor=\"middle\" x=\"508\" y=\"-268.3\" font-family=\"Helvetica,sans-Serif\" font-size=\"14.00\">samples = 367</text>\n",
       "<text text-anchor=\"middle\" x=\"508\" y=\"-253.3\" font-family=\"Helvetica,sans-Serif\" font-size=\"14.00\">value = [367, 0]</text>\n",
       "<text text-anchor=\"middle\" x=\"508\" y=\"-238.3\" font-family=\"Helvetica,sans-Serif\" font-size=\"14.00\">class = p</text>\n",
       "</g>\n",
       "<!-- 4&#45;&gt;15 -->\n",
       "<g id=\"edge10\" class=\"edge\">\n",
       "<title>4&#45;&gt;15</title>\n",
       "<path fill=\"none\" stroke=\"black\" d=\"M542.61,-341.91C537.66,-330.98 532.3,-319.14 527.3,-308.11\"/>\n",
       "<polygon fill=\"black\" stroke=\"black\" points=\"530.34,-306.33 523.02,-298.67 523.96,-309.22 530.34,-306.33\"/>\n",
       "</g>\n",
       "<!-- 16 -->\n",
       "<g id=\"node12\" class=\"node\">\n",
       "<title>16</title>\n",
       "<polygon fill=\"#399de5\" stroke=\"black\" points=\"687.5,-298.5 582.5,-298.5 582.5,-230.5 687.5,-230.5 687.5,-298.5\"/>\n",
       "<text text-anchor=\"middle\" x=\"635\" y=\"-283.3\" font-family=\"Helvetica,sans-Serif\" font-size=\"14.00\">gini = 0.0</text>\n",
       "<text text-anchor=\"middle\" x=\"635\" y=\"-268.3\" font-family=\"Helvetica,sans-Serif\" font-size=\"14.00\">samples = 26</text>\n",
       "<text text-anchor=\"middle\" x=\"635\" y=\"-253.3\" font-family=\"Helvetica,sans-Serif\" font-size=\"14.00\">value = [0, 26]</text>\n",
       "<text text-anchor=\"middle\" x=\"635\" y=\"-238.3\" font-family=\"Helvetica,sans-Serif\" font-size=\"14.00\">class = e</text>\n",
       "</g>\n",
       "<!-- 4&#45;&gt;16 -->\n",
       "<g id=\"edge11\" class=\"edge\">\n",
       "<title>4&#45;&gt;16</title>\n",
       "<path fill=\"none\" stroke=\"black\" d=\"M586.67,-341.91C593.72,-330.76 601.38,-318.66 608.47,-307.44\"/>\n",
       "<polygon fill=\"black\" stroke=\"black\" points=\"611.64,-308.99 614.02,-298.67 605.72,-305.25 611.64,-308.99\"/>\n",
       "</g>\n",
       "<!-- 7 -->\n",
       "<g id=\"node14\" class=\"node\">\n",
       "<title>7</title>\n",
       "<polygon fill=\"#e5833c\" stroke=\"black\" points=\"911,-425 685,-425 685,-342 911,-342 911,-425\"/>\n",
       "<text text-anchor=\"middle\" x=\"798\" y=\"-409.8\" font-family=\"Helvetica,sans-Serif\" font-size=\"14.00\">stalk&#45;surface&#45;below&#45;ring_y &lt;= 0.5</text>\n",
       "<text text-anchor=\"middle\" x=\"798\" y=\"-394.8\" font-family=\"Helvetica,sans-Serif\" font-size=\"14.00\">gini = 0.032</text>\n",
       "<text text-anchor=\"middle\" x=\"798\" y=\"-379.8\" font-family=\"Helvetica,sans-Serif\" font-size=\"14.00\">samples = 2387</text>\n",
       "<text text-anchor=\"middle\" x=\"798\" y=\"-364.8\" font-family=\"Helvetica,sans-Serif\" font-size=\"14.00\">value = [2348, 39]</text>\n",
       "<text text-anchor=\"middle\" x=\"798\" y=\"-349.8\" font-family=\"Helvetica,sans-Serif\" font-size=\"14.00\">class = p</text>\n",
       "</g>\n",
       "<!-- 2&#45;&gt;7 -->\n",
       "<g id=\"edge13\" class=\"edge\">\n",
       "<title>2&#45;&gt;7</title>\n",
       "<path fill=\"none\" stroke=\"black\" d=\"M798,-460.91C798,-452.65 798,-443.86 798,-435.3\"/>\n",
       "<polygon fill=\"black\" stroke=\"black\" points=\"801.5,-435.02 798,-425.02 794.5,-435.02 801.5,-435.02\"/>\n",
       "</g>\n",
       "<!-- 8 -->\n",
       "<g id=\"node19\" class=\"node\">\n",
       "<title>8</title>\n",
       "<polygon fill=\"#399de5\" stroke=\"black\" points=\"1034.5,-417.5 929.5,-417.5 929.5,-349.5 1034.5,-349.5 1034.5,-417.5\"/>\n",
       "<text text-anchor=\"middle\" x=\"982\" y=\"-402.3\" font-family=\"Helvetica,sans-Serif\" font-size=\"14.00\">gini = 0.0</text>\n",
       "<text text-anchor=\"middle\" x=\"982\" y=\"-387.3\" font-family=\"Helvetica,sans-Serif\" font-size=\"14.00\">samples = 49</text>\n",
       "<text text-anchor=\"middle\" x=\"982\" y=\"-372.3\" font-family=\"Helvetica,sans-Serif\" font-size=\"14.00\">value = [0, 49]</text>\n",
       "<text text-anchor=\"middle\" x=\"982\" y=\"-357.3\" font-family=\"Helvetica,sans-Serif\" font-size=\"14.00\">class = e</text>\n",
       "</g>\n",
       "<!-- 2&#45;&gt;8 -->\n",
       "<g id=\"edge18\" class=\"edge\">\n",
       "<title>2&#45;&gt;8</title>\n",
       "<path fill=\"none\" stroke=\"black\" d=\"M863.36,-460.83C881.72,-449.32 901.68,-436.73 920,-425 921.07,-424.32 922.14,-423.63 923.22,-422.93\"/>\n",
       "<polygon fill=\"black\" stroke=\"black\" points=\"925.12,-425.87 931.63,-417.51 921.33,-419.99 925.12,-425.87\"/>\n",
       "</g>\n",
       "<!-- 13 -->\n",
       "<g id=\"node15\" class=\"node\">\n",
       "<title>13</title>\n",
       "<polygon fill=\"#e58139\" stroke=\"black\" points=\"849,-298.5 727,-298.5 727,-230.5 849,-230.5 849,-298.5\"/>\n",
       "<text text-anchor=\"middle\" x=\"788\" y=\"-283.3\" font-family=\"Helvetica,sans-Serif\" font-size=\"14.00\">gini = 0.003</text>\n",
       "<text text-anchor=\"middle\" x=\"788\" y=\"-268.3\" font-family=\"Helvetica,sans-Serif\" font-size=\"14.00\">samples = 2340</text>\n",
       "<text text-anchor=\"middle\" x=\"788\" y=\"-253.3\" font-family=\"Helvetica,sans-Serif\" font-size=\"14.00\">value = [2336, 4]</text>\n",
       "<text text-anchor=\"middle\" x=\"788\" y=\"-238.3\" font-family=\"Helvetica,sans-Serif\" font-size=\"14.00\">class = p</text>\n",
       "</g>\n",
       "<!-- 7&#45;&gt;13 -->\n",
       "<g id=\"edge14\" class=\"edge\">\n",
       "<title>7&#45;&gt;13</title>\n",
       "<path fill=\"none\" stroke=\"black\" d=\"M794.53,-341.91C793.62,-331.2 792.63,-319.62 791.7,-308.78\"/>\n",
       "<polygon fill=\"black\" stroke=\"black\" points=\"795.17,-308.33 790.83,-298.67 788.2,-308.93 795.17,-308.33\"/>\n",
       "</g>\n",
       "<!-- 14 -->\n",
       "<g id=\"node16\" class=\"node\">\n",
       "<title>14</title>\n",
       "<polygon fill=\"#7dbfee\" stroke=\"black\" points=\"999,-306 867,-306 867,-223 999,-223 999,-306\"/>\n",
       "<text text-anchor=\"middle\" x=\"933\" y=\"-290.8\" font-family=\"Helvetica,sans-Serif\" font-size=\"14.00\">ring&#45;type_p &lt;= 0.5</text>\n",
       "<text text-anchor=\"middle\" x=\"933\" y=\"-275.8\" font-family=\"Helvetica,sans-Serif\" font-size=\"14.00\">gini = 0.38</text>\n",
       "<text text-anchor=\"middle\" x=\"933\" y=\"-260.8\" font-family=\"Helvetica,sans-Serif\" font-size=\"14.00\">samples = 47</text>\n",
       "<text text-anchor=\"middle\" x=\"933\" y=\"-245.8\" font-family=\"Helvetica,sans-Serif\" font-size=\"14.00\">value = [12, 35]</text>\n",
       "<text text-anchor=\"middle\" x=\"933\" y=\"-230.8\" font-family=\"Helvetica,sans-Serif\" font-size=\"14.00\">class = e</text>\n",
       "</g>\n",
       "<!-- 7&#45;&gt;14 -->\n",
       "<g id=\"edge15\" class=\"edge\">\n",
       "<title>7&#45;&gt;14</title>\n",
       "<path fill=\"none\" stroke=\"black\" d=\"M844.84,-341.91C855.73,-332.47 867.41,-322.34 878.6,-312.65\"/>\n",
       "<polygon fill=\"black\" stroke=\"black\" points=\"880.98,-315.22 886.25,-306.02 876.4,-309.93 880.98,-315.22\"/>\n",
       "</g>\n",
       "<!-- 17 -->\n",
       "<g id=\"node17\" class=\"node\">\n",
       "<title>17</title>\n",
       "<polygon fill=\"#399de5\" stroke=\"black\" points=\"923.5,-179.5 818.5,-179.5 818.5,-111.5 923.5,-111.5 923.5,-179.5\"/>\n",
       "<text text-anchor=\"middle\" x=\"871\" y=\"-164.3\" font-family=\"Helvetica,sans-Serif\" font-size=\"14.00\">gini = 0.0</text>\n",
       "<text text-anchor=\"middle\" x=\"871\" y=\"-149.3\" font-family=\"Helvetica,sans-Serif\" font-size=\"14.00\">samples = 35</text>\n",
       "<text text-anchor=\"middle\" x=\"871\" y=\"-134.3\" font-family=\"Helvetica,sans-Serif\" font-size=\"14.00\">value = [0, 35]</text>\n",
       "<text text-anchor=\"middle\" x=\"871\" y=\"-119.3\" font-family=\"Helvetica,sans-Serif\" font-size=\"14.00\">class = e</text>\n",
       "</g>\n",
       "<!-- 14&#45;&gt;17 -->\n",
       "<g id=\"edge16\" class=\"edge\">\n",
       "<title>14&#45;&gt;17</title>\n",
       "<path fill=\"none\" stroke=\"black\" d=\"M911.49,-222.91C905.64,-211.87 899.3,-199.9 893.4,-188.77\"/>\n",
       "<polygon fill=\"black\" stroke=\"black\" points=\"896.35,-186.86 888.58,-179.67 890.17,-190.14 896.35,-186.86\"/>\n",
       "</g>\n",
       "<!-- 18 -->\n",
       "<g id=\"node18\" class=\"node\">\n",
       "<title>18</title>\n",
       "<polygon fill=\"#e58139\" stroke=\"black\" points=\"1046.5,-179.5 941.5,-179.5 941.5,-111.5 1046.5,-111.5 1046.5,-179.5\"/>\n",
       "<text text-anchor=\"middle\" x=\"994\" y=\"-164.3\" font-family=\"Helvetica,sans-Serif\" font-size=\"14.00\">gini = 0.0</text>\n",
       "<text text-anchor=\"middle\" x=\"994\" y=\"-149.3\" font-family=\"Helvetica,sans-Serif\" font-size=\"14.00\">samples = 12</text>\n",
       "<text text-anchor=\"middle\" x=\"994\" y=\"-134.3\" font-family=\"Helvetica,sans-Serif\" font-size=\"14.00\">value = [12, 0]</text>\n",
       "<text text-anchor=\"middle\" x=\"994\" y=\"-119.3\" font-family=\"Helvetica,sans-Serif\" font-size=\"14.00\">class = p</text>\n",
       "</g>\n",
       "<!-- 14&#45;&gt;18 -->\n",
       "<g id=\"edge17\" class=\"edge\">\n",
       "<title>14&#45;&gt;18</title>\n",
       "<path fill=\"none\" stroke=\"black\" d=\"M954.16,-222.91C959.92,-211.87 966.16,-199.9 971.96,-188.77\"/>\n",
       "<polygon fill=\"black\" stroke=\"black\" points=\"975.19,-190.15 976.71,-179.67 968.98,-186.92 975.19,-190.15\"/>\n",
       "</g>\n",
       "</g>\n",
       "</svg>\n"
      ],
      "text/plain": [
       "<graphviz.sources.Source at 0x1cef36e6bb0>"
      ]
     },
     "metadata": {},
     "output_type": "display_data"
    },
    {
     "data": {
      "text/plain": [
       "0"
      ]
     },
     "execution_count": 104,
     "metadata": {},
     "output_type": "execute_result"
    }
   ],
   "source": [
    "export_graphviz(tree_model2, out_file='tree2.dot',\n",
    "               class_names=['p','e'],\n",
    "               feature_names=X_one_hot.columns,\n",
    "               impurity=True,\n",
    "               filled=True)\n",
    "with open('tree2.dot', encoding='UTF8') as f:\n",
    "    dot_graph = f.read()\n",
    "display(graphviz.Source(dot_graph))\n",
    "check_call(['dot','-Tpng','tree2.dot','-o','tree2.png'])"
   ]
  },
  {
   "cell_type": "markdown",
   "id": "08d5e098",
   "metadata": {},
   "source": [
    "# 교차검증"
   ]
  },
  {
   "cell_type": "code",
   "execution_count": 105,
   "id": "9b4d157a",
   "metadata": {},
   "outputs": [
    {
     "data": {
      "text/plain": [
       "1.0"
      ]
     },
     "execution_count": 105,
     "metadata": {},
     "output_type": "execute_result"
    }
   ],
   "source": [
    "from sklearn.model_selection import cross_val_score\n",
    "# 사용할 모델, 문제, 정답, 데이터 분할 수\n",
    "cross_val_score(tree_model, X_train, y_train, cv=5).mean()"
   ]
  },
  {
   "cell_type": "markdown",
   "id": "217dcd1c",
   "metadata": {},
   "source": [
    "# 특성선택"
   ]
  },
  {
   "cell_type": "code",
   "execution_count": 107,
   "id": "525d8a81",
   "metadata": {},
   "outputs": [
    {
     "data": {
      "text/plain": [
       "(5686, 117)"
      ]
     },
     "execution_count": 107,
     "metadata": {},
     "output_type": "execute_result"
    }
   ],
   "source": [
    "X_train.shape"
   ]
  },
  {
   "cell_type": "code",
   "execution_count": 108,
   "id": "003a9e7f",
   "metadata": {},
   "outputs": [],
   "source": [
    "# 특성의 중요도\n",
    "# 117개의 중요도의 합은 1\n",
    "# 참고할 수 있는 특성 선택\n",
    "fi=tree_model.feature_importances_"
   ]
  },
  {
   "cell_type": "code",
   "execution_count": 112,
   "id": "3881b82e",
   "metadata": {},
   "outputs": [
    {
     "data": {
      "text/html": [
       "<div>\n",
       "<style scoped>\n",
       "    .dataframe tbody tr th:only-of-type {\n",
       "        vertical-align: middle;\n",
       "    }\n",
       "\n",
       "    .dataframe tbody tr th {\n",
       "        vertical-align: top;\n",
       "    }\n",
       "\n",
       "    .dataframe thead th {\n",
       "        text-align: right;\n",
       "    }\n",
       "</style>\n",
       "<table border=\"1\" class=\"dataframe\">\n",
       "  <thead>\n",
       "    <tr style=\"text-align: right;\">\n",
       "      <th></th>\n",
       "      <th>0</th>\n",
       "    </tr>\n",
       "  </thead>\n",
       "  <tbody>\n",
       "    <tr>\n",
       "      <th>odor_n</th>\n",
       "      <td>0.611260</td>\n",
       "    </tr>\n",
       "    <tr>\n",
       "      <th>stalk-root_c</th>\n",
       "      <td>0.181619</td>\n",
       "    </tr>\n",
       "    <tr>\n",
       "      <th>stalk-root_r</th>\n",
       "      <td>0.084320</td>\n",
       "    </tr>\n",
       "    <tr>\n",
       "      <th>spore-print-color_r</th>\n",
       "      <td>0.032703</td>\n",
       "    </tr>\n",
       "    <tr>\n",
       "      <th>odor_l</th>\n",
       "      <td>0.023059</td>\n",
       "    </tr>\n",
       "    <tr>\n",
       "      <th>odor_a</th>\n",
       "      <td>0.022945</td>\n",
       "    </tr>\n",
       "    <tr>\n",
       "      <th>stalk-surface-below-ring_y</th>\n",
       "      <td>0.017903</td>\n",
       "    </tr>\n",
       "    <tr>\n",
       "      <th>stalk-surface-above-ring_k</th>\n",
       "      <td>0.017091</td>\n",
       "    </tr>\n",
       "    <tr>\n",
       "      <th>gill-size_b</th>\n",
       "      <td>0.006310</td>\n",
       "    </tr>\n",
       "    <tr>\n",
       "      <th>cap-surface_g</th>\n",
       "      <td>0.001404</td>\n",
       "    </tr>\n",
       "  </tbody>\n",
       "</table>\n",
       "</div>"
      ],
      "text/plain": [
       "                                   0\n",
       "odor_n                      0.611260\n",
       "stalk-root_c                0.181619\n",
       "stalk-root_r                0.084320\n",
       "spore-print-color_r         0.032703\n",
       "odor_l                      0.023059\n",
       "odor_a                      0.022945\n",
       "stalk-surface-below-ring_y  0.017903\n",
       "stalk-surface-above-ring_k  0.017091\n",
       "gill-size_b                 0.006310\n",
       "cap-surface_g               0.001404"
      ]
     },
     "execution_count": 112,
     "metadata": {},
     "output_type": "execute_result"
    }
   ],
   "source": [
    "fi_df=pd.DataFrame(fi, index=X_train.columns)\n",
    "fi_df.sort_values(by=0, ascending=False).head(10)"
   ]
  },
  {
   "cell_type": "code",
   "execution_count": null,
   "id": "49841e59",
   "metadata": {},
   "outputs": [],
   "source": []
  },
  {
   "cell_type": "code",
   "execution_count": 113,
   "id": "7f3d0f9f",
   "metadata": {},
   "outputs": [
    {
     "data": {
      "text/plain": [
       "1.0"
      ]
     },
     "execution_count": 113,
     "metadata": {},
     "output_type": "execute_result"
    }
   ],
   "source": [
    "tree=DecisionTreeClassifier() # gridsearch 활용\n",
    "tree.fit(X_train, y_train)\n",
    "cross_val_score(tree_model, X_train, y_train, cv=5).mean()"
   ]
  },
  {
   "cell_type": "code",
   "execution_count": 114,
   "id": "170aaeee",
   "metadata": {},
   "outputs": [
    {
     "data": {
      "text/plain": [
       "1.0"
      ]
     },
     "execution_count": 114,
     "metadata": {},
     "output_type": "execute_result"
    }
   ],
   "source": [
    "tree.score(X_test, y_test)"
   ]
  },
  {
   "cell_type": "code",
   "execution_count": 116,
   "id": "db05367e",
   "metadata": {},
   "outputs": [
    {
     "data": {
      "text/plain": [
       "GridSearchCV(cv=5, estimator=DecisionTreeClassifier(),\n",
       "             param_grid={'max_depth': range(1, 10),\n",
       "                         'max_leaf_nodes': range(10, 20)})"
      ]
     },
     "execution_count": 116,
     "metadata": {},
     "output_type": "execute_result"
    }
   ],
   "source": [
    "from sklearn.model_selection import GridSearchCV\n",
    "param_grid = {\n",
    "    'max_depth' : range(1,10),\n",
    "    'max_leaf_nodes' : range(10,20)\n",
    "}\n",
    "grid = GridSearchCV(DecisionTreeClassifier(), param_grid, cv = 5)\n",
    "grid.fit(X_train, y_train)"
   ]
  },
  {
   "cell_type": "code",
   "execution_count": 117,
   "id": "3b41c8eb",
   "metadata": {},
   "outputs": [
    {
     "data": {
      "text/plain": [
       "1.0"
      ]
     },
     "execution_count": 117,
     "metadata": {},
     "output_type": "execute_result"
    }
   ],
   "source": [
    "grid.best_score_"
   ]
  },
  {
   "cell_type": "code",
   "execution_count": 118,
   "id": "ffe733d8",
   "metadata": {},
   "outputs": [
    {
     "data": {
      "text/plain": [
       "{'max_depth': 6, 'max_leaf_nodes': 13}"
      ]
     },
     "execution_count": 118,
     "metadata": {},
     "output_type": "execute_result"
    }
   ],
   "source": [
    "grid.best_params_"
   ]
  },
  {
   "cell_type": "code",
   "execution_count": null,
   "id": "ed16f266",
   "metadata": {},
   "outputs": [],
   "source": []
  }
 ],
 "metadata": {
  "kernelspec": {
   "display_name": "Python 3 (ipykernel)",
   "language": "python",
   "name": "python3"
  },
  "language_info": {
   "codemirror_mode": {
    "name": "ipython",
    "version": 3
   },
   "file_extension": ".py",
   "mimetype": "text/x-python",
   "name": "python",
   "nbconvert_exporter": "python",
   "pygments_lexer": "ipython3",
   "version": "3.9.7"
  },
  "toc": {
   "base_numbering": 1,
   "nav_menu": {},
   "number_sections": true,
   "sideBar": true,
   "skip_h1_title": false,
   "title_cell": "Table of Contents",
   "title_sidebar": "Contents",
   "toc_cell": false,
   "toc_position": {},
   "toc_section_display": true,
   "toc_window_display": true
  }
 },
 "nbformat": 4,
 "nbformat_minor": 5
}
